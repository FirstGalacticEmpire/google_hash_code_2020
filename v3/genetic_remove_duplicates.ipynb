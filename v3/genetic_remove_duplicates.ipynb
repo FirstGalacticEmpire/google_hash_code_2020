{
 "cells": [
  {
   "cell_type": "code",
   "execution_count": 65,
   "metadata": {},
   "outputs": [],
   "source": [
    "import numpy as np, matplotlib.pyplot as plt, time, copy, random, math\n",
    "#%load_ext line_profiler\n",
    "directory = '../data/'\n",
    "file_paths = ['a_example.txt', 'b_read_on.txt', 'c_incunabula.txt','d_tough_choices.txt', 'e_so_many_books.txt', 'f_libraries_of_the_world.txt']"
   ]
  },
  {
   "cell_type": "markdown",
   "metadata": {},
   "source": [
    "### Classes"
   ]
  },
  {
   "cell_type": "code",
   "execution_count": 38,
   "metadata": {},
   "outputs": [],
   "source": [
    "class Library():\n",
    "    def __init__(self,index,N,T,M):\n",
    "        self.id = index\n",
    "        self.size  = N\n",
    "        self.signup_time = T\n",
    "        self.books_per_day = M\n",
    "        self.book_ids = set()\n",
    "        \n",
    "    def add_book(self,book):\n",
    "        self.book_ids.add(book)\n",
    "        \n",
    "    def remove_book(self,book):\n",
    "        self.book_ids.remove(book)\n",
    "        \n",
    "    \n",
    "    def __str__(self):\n",
    "        return str(self.__class__) + \": \" + str(self.__dict__)"
   ]
  },
  {
   "cell_type": "markdown",
   "metadata": {},
   "source": [
    "### Utils"
   ]
  },
  {
   "cell_type": "code",
   "execution_count": 39,
   "metadata": {},
   "outputs": [],
   "source": [
    "def process_file(filePath):\n",
    "    with open(directory+filePath,'r') as file:\n",
    "        content = file.read().split('\\n')[:-1];\n",
    "        B,L,D = content[0].split()\n",
    "        B,L,D = int(B),int(L),int(D)\n",
    "    book_libraries = [set() for i in range(B)]\n",
    "    bookValues = [int(n) for n in content[1].split()]\n",
    "    libraries = []\n",
    "    for i in range(L):\n",
    "        N,T,M = content[2+2*i].split()\n",
    "        N,T,M=int(N),int(T),int(M)\n",
    "        book_ids = set(int(id) for id in content[2+2*i+1].split())\n",
    "        library = Library(i,N,T,M)\n",
    "        for book_id in book_ids:\n",
    "            book_libraries[book_id].add(i)\n",
    "            library.add_book(book_id)\n",
    "        libraries.append(library)\n",
    "    return ((B,L,D), bookValues,book_libraries, libraries)"
   ]
  },
  {
   "cell_type": "code",
   "execution_count": 40,
   "metadata": {},
   "outputs": [],
   "source": [
    "def check_solution(D, libraries):\n",
    "    days = 0\n",
    "    prev_books = set()\n",
    "    lib_ids = [lib.id for lib in libraries]\n",
    "    assert(len(lib_ids) == len(set(lib_ids)))\n",
    "    for library in libraries:\n",
    "        days+=library.signup_time\n",
    "        if len(library.book_ids) > (D-days)*library.books_per_day:\n",
    "            print(\"what\", len(library.book_ids), (D-days)*library.books_per_day)\n",
    "        assert(len(library.book_ids) == len(set(library.book_ids)))\n",
    "        assert(not any([(book in prev_books) for book in library.book_ids]))\n",
    "        prev_books.update(library.book_ids)\n",
    "    assert(days < D)\n",
    "    \n",
    "def score_solution(libraries, book_values):\n",
    "    score=0\n",
    "    for library in libraries:\n",
    "        for book_id in library.book_ids:\n",
    "            score+= book_values[book_id]\n",
    "    return score"
   ]
  },
  {
   "cell_type": "code",
   "execution_count": 41,
   "metadata": {},
   "outputs": [],
   "source": [
    "class ProblemSolver:\n",
    "    def __init__(self, B, L, D, book_values, book_libraries, libraries):\n",
    "        self.B, self.L, self.D = B,L,D\n",
    "        self.book_values = book_values\n",
    "        self.libraries = libraries\n",
    "        self.book_libraries = copy.copy(book_libraries)\n",
    "        \n",
    "    def book_score(self, book):\n",
    "        return self.book_values[book]\n",
    "    \n",
    "    def get_n_best_books(self,lib, n):\n",
    "        return sorted(lib.book_ids,key=self.book_score, reverse=True)[:n]\n",
    "        \n",
    "    def get_solution(self,selected_lib_ids=None):\n",
    "        if not selected_lib_ids:\n",
    "            selected_lib_ids = self.get_individual()\n",
    "        local_book_values = copy.copy(self.book_values)\n",
    "        day = 0\n",
    "        selected_libraries = [copy.deepcopy(self.libraries[i]) for i in selected_lib_ids]\n",
    "        it=0;\n",
    "        already_scanned_books = set()\n",
    "        while it < len(selected_libraries):\n",
    "            next_library = selected_libraries[it]\n",
    "            day+=next_library.signup_time\n",
    "            if day>=self.D:\n",
    "                break\n",
    "            next_library.book_ids = next_library.book_ids - already_scanned_books\n",
    "            next_library.book_ids = sorted(next_library.book_ids,key=self.book_score, reverse=True)[:(self.D-day)*next_library.books_per_day]\n",
    "            already_scanned_books.update(next_library.book_ids)\n",
    "            it+=1\n",
    "        return selected_libraries[:it]\n",
    "    \n",
    "    def get_individual(self):\n",
    "        pass"
   ]
  },
  {
   "cell_type": "code",
   "execution_count": 42,
   "metadata": {},
   "outputs": [],
   "source": [
    "class HeurysticSolver(ProblemSolver):\n",
    "    def library_score(self,lib_id):\n",
    "        lib = self.libraries[lib_id]\n",
    "        delta_time = self.D - lib.signup_time\n",
    "        n_best_books = self.get_n_best_books(lib, delta_time*lib.books_per_day)\n",
    "        sum_of_best_book_scores = sum([self.book_values[book] for book in n_best_books])\n",
    "        return sum_of_best_book_scores/lib.signup_time\n",
    "    \n",
    "    def get_individual(self):\n",
    "        lib_ids = [i for i in range(len(self.libraries))]\n",
    "        lib_ids.sort(key = self.library_score, reverse= True)\n",
    "        day = 0\n",
    "        chosen = []\n",
    "        for i in range(len(lib_ids)):\n",
    "            if day + self.libraries[lib_ids[i]].signup_time >= self.D:\n",
    "                continue  \n",
    "            day+=self.libraries[lib_ids[i]].signup_time\n",
    "            chosen.append(lib_ids[i])\n",
    "        return tuple(chosen)"
   ]
  },
  {
   "cell_type": "code",
   "execution_count": 43,
   "metadata": {},
   "outputs": [],
   "source": [
    "class PowerSolver(HeurysticSolver):\n",
    "    def library_score(self,lib_id):\n",
    "        lib = self.libraries[lib_id]\n",
    "        delta_time = self.D - lib.signup_time\n",
    "        n_best_books = self.get_n_best_books(lib, delta_time*lib.books_per_day)\n",
    "        sum_of_best_book_scores = sum([self.book_values[book] for book in n_best_books])\n",
    "        return sum_of_best_book_scores/lib.signup_time**(1+lib.signup_time/self.D)"
   ]
  },
  {
   "cell_type": "code",
   "execution_count": 44,
   "metadata": {},
   "outputs": [],
   "source": [
    "class SimpleScoreVarianceSolver(HeurysticSolver):\n",
    "    def library_score(self,lib_id):\n",
    "        lib = self.libraries[lib_id]\n",
    "        delta_time = self.D - lib.signup_time\n",
    "        n_best_books = self.get_n_best_books(lib, delta_time*lib.books_per_day)\n",
    "        best_scores = [self.book_values[book] for book in n_best_books]\n",
    "        sum_of_best_book_scores = sum(best_scores)\n",
    "        book_variance = max(0.001,np.var(best_scores))\n",
    "        return sum_of_best_book_scores/book_variance"
   ]
  },
  {
   "cell_type": "code",
   "execution_count": 45,
   "metadata": {},
   "outputs": [],
   "source": [
    "class SquareScoreVarianceSolver(HeurysticSolver):\n",
    "    def library_score(self,lib_id):\n",
    "        lib = self.libraries[lib_id]\n",
    "        delta_time = self.D - lib.signup_time\n",
    "        n_best_books = self.get_n_best_books(lib, delta_time*lib.books_per_day)\n",
    "        best_scores = [self.book_values[book] for book in n_best_books]\n",
    "        sum_of_best_book_scores = sum(best_scores)\n",
    "        book_variance = max(0.001,np.var(best_scores))\n",
    "        return sum_of_best_book_scores**2/(lib.signup_time*lib.signup_time*math.sqrt(book_variance))"
   ]
  },
  {
   "cell_type": "code",
   "execution_count": 46,
   "metadata": {},
   "outputs": [],
   "source": [
    "class BookNumbersSolver(HeurysticSolver):\n",
    "    def library_score(self,lib_id):\n",
    "        lib = self.libraries[lib_id]\n",
    "        delta_time = self.D - lib.signup_time\n",
    "        n_best_books = self.get_n_best_books(lib, delta_time*lib.books_per_day)\n",
    "        best_scores = [self.book_values[book] for book in n_best_books]\n",
    "        sum_of_best_book_scores = sum(best_scores)\n",
    "        book_variance = max(0.001,np.var(best_scores))\n",
    "        return sum_of_best_book_scores**2/(book_variance*len(n_best_books)*lib.signup_time)"
   ]
  },
  {
   "cell_type": "code",
   "execution_count": 47,
   "metadata": {},
   "outputs": [],
   "source": [
    "class ScoreSquareSolver(HeurysticSolver):\n",
    "    def library_score(self,lib_id):\n",
    "        lib = self.libraries[lib_id]\n",
    "        delta_time = self.D - lib.signup_time\n",
    "        n_best_books = self.get_n_best_books(lib, delta_time*lib.books_per_day)\n",
    "        sum_of_best_book_scores = sum([self.book_values[book] for book in n_best_books])\n",
    "        return sum_of_best_book_scores**2/lib.signup_time"
   ]
  },
  {
   "cell_type": "code",
   "execution_count": 48,
   "metadata": {},
   "outputs": [],
   "source": [
    "class BookCountSolver(HeurysticSolver):\n",
    "    def book_score(self, book):\n",
    "        return self.book_values[book] - 0.7*len(self.book_libraries[book])"
   ]
  },
  {
   "cell_type": "code",
   "execution_count": 49,
   "metadata": {},
   "outputs": [],
   "source": [
    "class BookCountPowerSolver(PowerSolver):\n",
    "    def book_score(self, book):\n",
    "        return self.book_values[book] - 0.7*len(self.book_libraries[book])"
   ]
  },
  {
   "cell_type": "code",
   "execution_count": 50,
   "metadata": {},
   "outputs": [
    {
     "name": "stdout",
     "output_type": "stream",
     "text": [
      "CPU times: user 1.15 ms, sys: 60 µs, total: 1.21 ms\n",
      "Wall time: 1.1 ms\n",
      "[21, 21, 21, 21, 21, 21, 21, 21]\n",
      "21\n",
      "CPU times: user 310 ms, sys: 0 ns, total: 310 ms\n",
      "Wall time: 310 ms\n",
      "[5822900, 5822900, 5822900, 5822900, 5822900, 5822900, 5822900, 5822900]\n",
      "5822900\n",
      "CPU times: user 1.43 s, sys: 0 ns, total: 1.43 s\n",
      "Wall time: 1.43 s\n",
      "[5645747, 5644690, 1191778, 5632921, 5309433, 5530843, 5645747, 5644690]\n",
      "5645747\n",
      "CPU times: user 4.08 s, sys: 31.7 ms, total: 4.11 s\n",
      "Wall time: 4.08 s\n",
      "[4815395, 4815395, 4815395, 4815395, 4815395, 4815395, 4815395, 4815395]\n",
      "4815395\n",
      "CPU times: user 1.57 s, sys: 4.17 ms, total: 1.57 s\n",
      "Wall time: 1.56 s\n",
      "[5020495, 5023616, 774717, 4791445, 2797585, 4741433, 5021339, 5024351]\n",
      "5024351\n",
      "CPU times: user 1.77 s, sys: 11.3 ms, total: 1.78 s\n",
      "Wall time: 1.84 s\n",
      "[5240161, 5238624, 1326571, 5211764, 4111186, 5083231, 5240157, 5238622]\n",
      "5240161\n",
      "SUM 26548575\n"
     ]
    }
   ],
   "source": [
    "sum_score = 0\n",
    "solvers_cls = [HeurysticSolver, PowerSolver, SimpleScoreVarianceSolver, SquareScoreVarianceSolver, BookNumbersSolver, ScoreSquareSolver, BookCountSolver, BookCountPowerSolver]\n",
    "for file_path in file_paths:\n",
    "    (B,L,D),book_values,book_counts, libraries = process_file(file_path)\n",
    "    solvers = [cl(B,L,D,book_values,book_counts, libraries) for cl in solvers_cls]\n",
    "    %time solutions = [solver.get_solution() for solver in solvers]\n",
    "#     print(list(lib.id for lib in solutions[0]))\n",
    "    [check_solution(D, solution) for solution in solutions]\n",
    "    scores = [score_solution(solution, book_values) for solution in solutions]\n",
    "    print(scores)\n",
    "    score = max(scores)\n",
    "    print(score)\n",
    "    sum_score+=score\n",
    "print(\"SUM\",sum_score)"
   ]
  },
  {
   "cell_type": "code",
   "execution_count": 51,
   "metadata": {},
   "outputs": [],
   "source": [
    "class RandomSolver(ProblemSolver):\n",
    "    def get_individual(self):\n",
    "        lib_ids = [i for i in range(len(self.libraries))]\n",
    "        random.shuffle(lib_ids)\n",
    "        day = 0\n",
    "        for i in range(len(lib_ids)):\n",
    "            day += self.libraries[lib_ids[i]].signup_time\n",
    "            if day >= self.D:\n",
    "                return tuple(lib_ids[:i])\n",
    "        return tuple(lib_ids)"
   ]
  },
  {
   "cell_type": "code",
   "execution_count": 52,
   "metadata": {},
   "outputs": [],
   "source": [
    "class GreedyIntervalSolver:\n",
    "    def __init__(self, B, L, D, book_values, book_libraries, libraries):\n",
    "        self.B, self.L, self.D = B, L, D\n",
    "        self.book_values = book_values\n",
    "        self.libraries = libraries\n",
    "        self.book_libraries = copy.copy(book_libraries)\n",
    "\n",
    "    def book_score(self, book_id):\n",
    "        return self.book_values[book_id] - 0.7 * len(self.book_libraries[book_id])\n",
    "\n",
    "    def get_n_best_books(self, lib, n):\n",
    "        return sorted(lib.book_ids, key=self.book_score, reverse=True)[:n]\n",
    "\n",
    "    def library_score(self, lib_id, current_day):\n",
    "        lib = self.libraries[lib_id]\n",
    "        delta_time = self.D - current_day - lib.signup_time\n",
    "        n_best_books = self.get_n_best_books(lib, min(delta_time * lib.books_per_day, len(lib.book_ids)))\n",
    "        sum_of_best_book_scores = sum([self.book_values[book] for book in n_best_books])\n",
    "        sum_of_best_book_scores /= lib.signup_time\n",
    "        return sum_of_best_book_scores  # / lib.signup_time ** (1 + lib.signup_time / self.D)\n",
    "\n",
    "    def get_solution(self):\n",
    "        libraries = [copy.deepcopy(library) for library in self.libraries]\n",
    "        remaining_libraries = set(lib.id for lib in libraries)\n",
    "        day = 0\n",
    "        chosen_libraries = []\n",
    "        it = 0\n",
    "        while len(remaining_libraries) > 0:\n",
    "            if it % 25 == 0:\n",
    "                library_scores = [(self.library_score(lib_id, day), lib_id) for lib_id in remaining_libraries]\n",
    "            it += 1\n",
    "            max_el = max(library_scores, key=lambda x: x[0])\n",
    "            library_scores.remove(max_el)\n",
    "            score, lib_id = max_el\n",
    "            remaining_libraries.remove(lib_id)\n",
    "            library = libraries[lib_id]\n",
    "            if day + library.signup_time >= self.D:\n",
    "                break\n",
    "            day += library.signup_time\n",
    "            books_to_take = (self.D - day) * library.books_per_day\n",
    "            sorted_books = sorted(library.book_ids, key=self.book_score, reverse=True)\n",
    "            for book_id in sorted_books[:books_to_take]:\n",
    "                for lib_id in self.book_libraries[book_id]:\n",
    "                    if lib_id != library.id:\n",
    "                        libraries[lib_id].remove_book(book_id)\n",
    "\n",
    "            for book_id in sorted_books[books_to_take:]:\n",
    "                self.book_libraries[book_id].remove(library.id)\n",
    "\n",
    "            library.book_ids = sorted_books[:books_to_take]\n",
    "            chosen_libraries.append(library)\n",
    "        return chosen_libraries\n",
    "\n",
    "    def get_individual_from_solution(self, solution):\n",
    "        return tuple([lib.id for lib in solution])"
   ]
  },
  {
   "cell_type": "code",
   "execution_count": 82,
   "metadata": {},
   "outputs": [],
   "source": [
    "class GeneticSolver(ProblemSolver):\n",
    "    def __init__(self, B, L, D, book_values,book_libraries, libraries, pop_size = 20, p_mutate = 0.5, surv_rate = 0.2, tournament_size = 3):\n",
    "        super().__init__(B, L, D, book_values,book_libraries, libraries)\n",
    "        num = 1\n",
    "        mult = len(libraries)\n",
    "        while num < pop_size and mult != 1:\n",
    "            num*=mult\n",
    "            mult-=1\n",
    "        self.pop_size = min(pop_size,num)\n",
    "        self.p_mutate = p_mutate\n",
    "        self.tournament_size = min(self.pop_size,tournament_size)\n",
    "        self.surv_rate = surv_rate\n",
    "        \n",
    "        self.indiv_scores = dict()\n",
    "        self.lib_ids = [i for i in range(len(libraries))]\n",
    "        self.lib_scores = [self.lib_score(lib) for lib in self.libraries]\n",
    "        \n",
    "    def lib_score(self, lib):\n",
    "        delta_time = self.D - lib.signup_time\n",
    "        n_best_books = self.get_n_best_books(lib, delta_time*lib.books_per_day)\n",
    "        sum_of_best_book_scores = sum([self.book_values[book] for book in n_best_books])\n",
    "        return sum_of_best_book_scores / lib.signup_time\n",
    "        \n",
    "        \n",
    "    def mutate(self, individual):\n",
    "        new_one = list(individual)\n",
    "        if random.random() <=0.5:\n",
    "            #internal mutation\n",
    "            length = len(new_one)\n",
    "            for i in range(4):\n",
    "                a,b = random.sample(range(length), 2)\n",
    "                new_one[a],new_one[b] =new_one[b],new_one[a]\n",
    "            return tuple(individual)                  \n",
    "        else:\n",
    "            #exxternal mutation\n",
    "            additional = random.choices(self.lib_ids, k=4, weights = self.lib_scores)\n",
    "            unique = set(additional)\n",
    "            for un in unique:\n",
    "                new_one.insert(random.randrange(0,len(new_one)), un)\n",
    "            return self.cut(new_one)\n",
    "            \n",
    "    def cut(self, new_one):\n",
    "        day =0;\n",
    "        chosen = set()\n",
    "        solution = []\n",
    "        for i in range(len(new_one)):\n",
    "            if new_one[i] not in chosen:\n",
    "                day+=self.libraries[new_one[i]].signup_time\n",
    "                if day >= self.D:\n",
    "                    continue\n",
    "                solution.append(new_one[i])\n",
    "                chosen.add(new_one[i])\n",
    "        return tuple(solution)\n",
    "    \n",
    "    def crossover(self,indiv_1, indiv_2):\n",
    "        set1 = set(indiv_1)\n",
    "        set2 = set(indiv_2)\n",
    "        common = set1.intersection(set2)\n",
    "        maxLen = max(len(indiv_1), len(indiv_2))\n",
    "        child1,child2,=[-1]*maxLen,[-1]*maxLen\n",
    "        only1,only2 = [],[]\n",
    "        for i in range(len(indiv_1)):\n",
    "            if indiv_1[i] in common:\n",
    "                child1[i] =  indiv_1[i]\n",
    "            else:\n",
    "                only1.append(indiv_1[i])\n",
    "        for i in range(len(indiv_2)):\n",
    "            if indiv_2[i] in common:\n",
    "                child2[i] = indiv_2[i]\n",
    "            else:\n",
    "                only2.append(indiv_2[i])\n",
    "        for i in range(maxLen):\n",
    "            if child1[i] == -1 and len(only2) > 0:\n",
    "                child1[i] = only2.pop(0)\n",
    "            if child2[i] == -1 and len(only1) > 0:\n",
    "                child2[i] = only1.pop(0)\n",
    "        child1 = [i for i in child1 if i !=-1]\n",
    "        child2 = [i for i in child2 if i !=-1]\n",
    "                        \n",
    "        child1 = self.cut(child1)\n",
    "        child2 = self.cut(child2)\n",
    "        if random.random()<=self.p_mutate:\n",
    "            child1 = self.mutate(child1)\n",
    "        if random.random()<=self.p_mutate:\n",
    "            child2 = self.mutate(child2)\n",
    "        return child1, child2\n",
    "    \n",
    "    def tournament(self, indivs):\n",
    "        return max(indivs, key = self.indiv_scores.get);\n",
    "    \n",
    "    def select_survivals(self, population):\n",
    "        k = int(5*self.pop_size*self.surv_rate)\n",
    "        weights = [self.indiv_scores[indiv] for indiv in population]\n",
    "        chosen = []\n",
    "        already_chosen = set()\n",
    "        desired = int(self.pop_size*self.surv_rate)\n",
    "        while len(already_chosen) < desired:\n",
    "            candidates = random.choices(population, k = k, weights = weights)\n",
    "            for cand in candidates:\n",
    "                if cand not in already_chosen:\n",
    "                    chosen.append(cand)\n",
    "                    already_chosen.add(cand)\n",
    "        return chosen\n",
    "    \n",
    "    def get_initial_population(self):\n",
    "        solvers_cls = [HeurysticSolver, PowerSolver, SimpleScoreVarianceSolver, SquareScoreVarianceSolver, BookNumbersSolver, ScoreSquareSolver, BookCountSolver, BookCountPowerSolver]\n",
    "        solvers = [cl(self.B,self.L,self.D,self.book_values,self.book_libraries, self.libraries) for cl in solvers_cls]\n",
    "        population = [solver.get_individual() for solver in solvers]\n",
    "        greedyIntervalSolver = GreedyIntervalSolver(self.B,self.L,self.D,self.book_values,self.book_libraries, self.libraries)\n",
    "        greedyIntervalSolution = greedyIntervalSolver.get_solution();\n",
    "        gis_individual = greedyIntervalSolver.get_individual_from_solution(greedyIntervalSolution)\n",
    "        population.append(gis_individual)\n",
    "        self.indiv_scores[gis_individual] = score_solution(greedyIntervalSolution, self.book_values)\n",
    "        randomSolver = RandomSolver(self.B,self.L,self.D,self.book_values,self.book_libraries, self.libraries)\n",
    "        while len(population) < self.pop_size:\n",
    "            population.append(randomSolver.get_individual())\n",
    "        return population\n",
    "    \n",
    "    def get_individual(self):\n",
    "        population = self.get_initial_population()\n",
    "        for indiv in population:\n",
    "            sol = self.get_solution(indiv)\n",
    "            self.indiv_scores[indiv] = score_solution(sol, self.book_values)\n",
    "        startTime = time.time()\n",
    "        progress = []\n",
    "        cur_state = []\n",
    "        times = []\n",
    "        while(True):\n",
    "            progress.append(max(self.indiv_scores.values()))\n",
    "            cur_state.append(max([self.indiv_scores[pop] for pop in population]))\n",
    "            times.append(time.time() - startTime)\n",
    "            if(time.time() - startTime > 290):\n",
    "                break\n",
    "            new_population = [ self.tournament(random.sample(population, self.tournament_size)) for i in range(int(self.pop_size*self.surv_rate))]\n",
    "            new_population.append(max([(self.indiv_scores[indiv], indiv) for indiv in population])[1])\n",
    "            while len(new_population) < self.pop_size:\n",
    "                indiv_1 = self.tournament(random.sample(population, self.tournament_size))\n",
    "                indiv_2 = self.tournament(random.sample(population, self.tournament_size))\n",
    "                if random.random()<= 0.5:\n",
    "                    new_child1 = self.mutate(indiv_1)\n",
    "                    new_child2 = self.mutate(indiv_2)\n",
    "                else:\n",
    "                    new_child1, new_child2 = self.crossover(indiv_1, indiv_2)\n",
    "                if new_child1 not in self.indiv_scores:\n",
    "                    self.indiv_scores[new_child1] = score_solution(self.get_solution(new_child1), book_values)\n",
    "                if new_child2 not in self.indiv_scores:\n",
    "                    self.indiv_scores[new_child2] = score_solution(self.get_solution(new_child2), book_values)\n",
    "                new_population.append(new_child1)\n",
    "                new_population.append(new_child2)\n",
    "            population = tuple(new_population)\n",
    "        plt.title(\"Progress min,max\"+str(min(progress))+\", \"+str(max(progress)))\n",
    "        plt.scatter(times,progress, color=\"blue\", label = \"progress\", alpha=0.5)\n",
    "        plt.scatter(times,cur_state, color=\"red\", label = \"cur_state\", alpha=0.5)\n",
    "        plt.show()\n",
    "        return max(self.indiv_scores, key = self.indiv_scores.get)\n",
    "              "
   ]
  },
  {
   "cell_type": "code",
   "execution_count": 83,
   "metadata": {},
   "outputs": [
    {
     "data": {
      "image/png": "[encoded data removed]",
      "text/plain": [
       "<Figure size 432x288 with 1 Axes>"
      ]
     },
     "metadata": {
      "needs_background": "light"
     },
     "output_type": "display_data"
    },
    {
     "name": "stdout",
     "output_type": "stream",
     "text": [
      "S:  5822900\n"
     ]
    },
    {
     "data": {
      "image/png": "[encoded data removed]",
      "text/plain": [
       "<Figure size 432x288 with 1 Axes>"
      ]
     },
     "metadata": {
      "needs_background": "light"
     },
     "output_type": "display_data"
    },
    {
     "name": "stdout",
     "output_type": "stream",
     "text": [
      "S:  5689163\n"
     ]
    },
    {
     "data": {
      "image/png": "[encoded data removed]",
      "text/plain": [
       "<Figure size 432x288 with 1 Axes>"
      ]
     },
     "metadata": {
      "needs_background": "light"
     },
     "output_type": "display_data"
    },
    {
     "name": "stdout",
     "output_type": "stream",
     "text": [
      "S:  4977115\n"
     ]
    },
    {
     "data": {
      "image/png": "[encoded data removed]",
      "text/plain": [
       "<Figure size 432x288 with 1 Axes>"
      ]
     },
     "metadata": {
      "needs_background": "light"
     },
     "output_type": "display_data"
    },
    {
     "name": "stdout",
     "output_type": "stream",
     "text": [
      "S:  5117490\n"
     ]
    },
    {
     "data": {
      "image/png": "[encoded data removed]",
      "text/plain": [
       "<Figure size 432x288 with 1 Axes>"
      ]
     },
     "metadata": {
      "needs_background": "light"
     },
     "output_type": "display_data"
    },
    {
     "name": "stdout",
     "output_type": "stream",
     "text": [
      "S:  5320331\n",
      "26926999\n"
     ]
    }
   ],
   "source": [
    "sum_score =0\n",
    "for file_path in file_paths[1:]:\n",
    "    (B, L, D), book_values,book_counts, libraries = process_file(file_path)\n",
    "    solver = GeneticSolver(B, L, D, book_values, book_counts, libraries, 20)\n",
    "    solution = solver.get_solution()\n",
    "    check_solution(D, solution)\n",
    "    score = score_solution(solution, book_values)\n",
    "    print(\"S: \",score)\n",
    "    sum_score += score\n",
    "\n",
    "print(sum_score)"
   ]
  },
  {
   "cell_type": "code",
   "execution_count": 41,
   "metadata": {},
   "outputs": [
    {
     "name": "stdout",
     "output_type": "stream",
     "text": [
      "21\n",
      "10000000\n",
      "30076415\n",
      "5109000\n",
      "12548648\n",
      "40111142\n"
     ]
    }
   ],
   "source": [
    "sum_score =0\n",
    "for file_path in file_paths:\n",
    "    (B, L, D), book_values,book_counts, libraries = process_file(file_path)\n",
    "    print(sum(book_values))"
   ]
  },
  {
   "cell_type": "code",
   "execution_count": null,
   "metadata": {},
   "outputs": [],
   "source": []
  }
 ],
 "metadata": {
  "kernelspec": {
   "display_name": "Python 3",
   "language": "python",
   "name": "python3"
  },
  "language_info": {
   "codemirror_mode": {
    "name": "ipython",
    "version": 3
   },
   "file_extension": ".py",
   "mimetype": "text/x-python",
   "name": "python",
   "nbconvert_exporter": "python",
   "pygments_lexer": "ipython3",
   "version": "3.7.6"
  }
 },
 "nbformat": 4,
 "nbformat_minor": 4
}
