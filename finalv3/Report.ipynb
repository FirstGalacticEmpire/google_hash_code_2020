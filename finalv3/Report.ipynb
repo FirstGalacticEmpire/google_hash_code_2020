{
 "cells": [
  {
   "cell_type": "markdown",
   "metadata": {},
   "source": [
    "# Combinatorial Optimization - Labolatories\n",
    "\n",
    "### Artificial Intelligence 2021 sem. 3\n",
    "\n",
    "### Labolatories\n",
    "\n",
    "### Library Book Assignment\n",
    "\n",
    "### Kacper Trębacz 145453\n",
    "\n",
    "### Jan Gruszczyński 145464"
   ]
  },
  {
   "cell_type": "markdown",
   "metadata": {},
   "source": [
    "## Requirements \n",
    "python version 3.7.6\n",
    "\n",
    "numpy 1.18.5\n",
    "\n",
    "ortools Version: 8.1.8487"
   ]
  },
  {
   "cell_type": "markdown",
   "metadata": {},
   "source": [
    "# Implementation\n",
    "\n",
    "Note: in this notebook program read from list of files to show scores on the example input files. Program itself read from standard input."
   ]
  },
  {
   "cell_type": "code",
   "execution_count": 1,
   "metadata": {},
   "outputs": [],
   "source": [
    "import numpy as np\n",
    "import matplotlib.pyplot as plt\n",
    "import time\n",
    "import random\n",
    "from math import sqrt\n",
    "import copy\n",
    "\n",
    "# Max flow Max cost solver\n",
    "from ortools.graph import pywrapgraph"
   ]
  },
  {
   "cell_type": "markdown",
   "metadata": {},
   "source": [
    "### Library class definition\n",
    "Every library has it's id, size, signup_time, books_per_day (how many libraries a day it can scan) and a set of book_ids. We choose a set to efficiently remove previously choosen books."
   ]
  },
  {
   "cell_type": "code",
   "execution_count": 2,
   "metadata": {},
   "outputs": [],
   "source": [
    "class Library:\n",
    "    def __init__(self, index, N, T, M):\n",
    "        self.id = index\n",
    "        self.size = N\n",
    "        self.signup_time = T\n",
    "        self.books_per_day = M\n",
    "        self.book_ids = set()\n",
    "\n",
    "    def add_book(self, book):\n",
    "        self.book_ids.add(book)\n",
    "\n",
    "    def remove_book(self, book):\n",
    "        self.book_ids.remove(book)\n",
    "\n",
    "    def __str__(self):\n",
    "        return str(self.__class__) + \": \" + str(self.__dict__)"
   ]
  },
  {
   "cell_type": "markdown",
   "metadata": {},
   "source": [
    "### Reading a file\n",
    "Except from reading book values and library data with book assignments, we also have a table with sets of library_ids for every book. So to store data in how many libraries given book is stored, thus allowing us to quickly update it in our greedy interval solver."
   ]
  },
  {
   "cell_type": "code",
   "execution_count": 3,
   "metadata": {},
   "outputs": [],
   "source": [
    "# Loads data from files into the class Library Objects\n",
    "def process_file(filePath):\n",
    "    with open('../data/'+filePath, 'r') as file:\n",
    "        content = file.read().split('\\n')[:-1]\n",
    "        B, L, D = content[0].split()\n",
    "        B, L, D = int(B), int(L), int(D)\n",
    "\n",
    "    book_libraries = [set() for i in range(0, B)]\n",
    "    book_values = [int(n) for n in content[1].split()]\n",
    "    libraries = []\n",
    "\n",
    "    for i in range(L):\n",
    "        N, T, M = content[2 + 2 * i].split()\n",
    "        N, T, M = int(N), int(T), int(M)\n",
    "        book_ids = set(int(id_) for id_ in content[2 + 2 * i + 1].split())\n",
    "        library = Library(i, N, T, M)\n",
    "\n",
    "        for book_id in book_ids:\n",
    "            book_libraries[book_id].add(i)\n",
    "            library.add_book(book_id)\n",
    "        libraries.append(library)\n",
    "    return (B, L, D), book_values, book_libraries, libraries"
   ]
  },
  {
   "cell_type": "markdown",
   "metadata": {},
   "source": [
    "### Terminology\n",
    "individual - a tuple of ordered ids\n",
    "\n",
    "solution - a list of libraries with correctly assigned books"
   ]
  },
  {
   "cell_type": "markdown",
   "metadata": {},
   "source": [
    "### Scoring\n",
    "Scoring function simply sums up scores fo books in every library."
   ]
  },
  {
   "cell_type": "code",
   "execution_count": 4,
   "metadata": {},
   "outputs": [],
   "source": [
    "def score_solution(libraries, book_values):\n",
    "    score = 0\n",
    "    for library in libraries:\n",
    "        for book_id in library.book_ids:\n",
    "            score += book_values[book_id]\n",
    "    return score"
   ]
  },
  {
   "cell_type": "markdown",
   "metadata": {},
   "source": [
    "### Check function\n",
    "this function checks if generated solution is valid:\n",
    "* no duplicates of libraries\n",
    "* no book duplicates in library\n",
    "* if the number of books is correct\n",
    "* if no library is signuped up after the deadline"
   ]
  },
  {
   "cell_type": "code",
   "execution_count": 5,
   "metadata": {},
   "outputs": [],
   "source": [
    "def check_solution(D, libraries):\n",
    "    days = 0\n",
    "    prev_books = set()\n",
    "    lib_ids = [lib.id for lib in libraries]\n",
    "    # checking if there are no duplicates of libraries in the solution\n",
    "    assert (len(lib_ids) == len(set(lib_ids)))\n",
    "\n",
    "    for library in libraries:\n",
    "        days += library.signup_time\n",
    "\n",
    "        # checking if library sends correct number of books\n",
    "        if len(library.book_ids) > (D - days) * library.books_per_day:\n",
    "            print(\"Library sends more books, than it is allowed to:\", len(library.book_ids),\n",
    "                  (D - days) * library.books_per_day)\n",
    "\n",
    "        # checking if there is no repetition of books\n",
    "        assert (len(library.book_ids) == len(set(library.book_ids)))\n",
    "        assert (not any([(book in prev_books) for book in library.book_ids]))\n",
    "        prev_books.update(library.book_ids)\n",
    "\n",
    "    # checking if we do not go over the deadline\n",
    "    assert (days < D)"
   ]
  },
  {
   "cell_type": "code",
   "execution_count": 6,
   "metadata": {},
   "outputs": [],
   "source": [
    "def save_solution_to_file(solution, file_path, flag=False):\n",
    "    lines = [str(len(solution)) + \"\\n\"]\n",
    "    for library in solution:\n",
    "        lines.append(f\"{str(library.id)} {len(library.book_ids)}\\n\")\n",
    "        aString = \"\"\n",
    "        for book_id in library.book_ids:\n",
    "            aString += f\"{str(book_id)} \"\n",
    "        aString = aString.strip() + \"\\n\"\n",
    "        lines.append(aString)\n",
    "    if flag:\n",
    "        with open(file_path, \"w+\") as file:\n",
    "            file.flush()\n",
    "            file.writelines(lines)\n",
    "    else:\n",
    "        with open(f\"{str(file_path[:-4])}_solution.txt\", \"w+\") as file:\n",
    "            file.flush()\n",
    "            file.writelines(lines)"
   ]
  },
  {
   "cell_type": "markdown",
   "metadata": {},
   "source": [
    "### Problem Solver\n",
    "It is an abstract class of almost every solver that we use. It has an already defined get_solution function which transforms individual into a solution. It does so by assigning the best books from library that had not been chosen before."
   ]
  },
  {
   "cell_type": "code",
   "execution_count": 7,
   "metadata": {},
   "outputs": [],
   "source": [
    "class ProblemSolver:\n",
    "    def __init__(self, B, L, D, book_values, book_libraries, libraries):\n",
    "        self.B, self.L, self.D = B, L, D\n",
    "        self.book_values = book_values\n",
    "        self.libraries = libraries\n",
    "        self.book_libraries = copy.deepcopy(book_libraries)\n",
    "\n",
    "    def book_score(self, book):\n",
    "        return self.book_values[book]\n",
    "\n",
    "    def get_n_best_books(self, lib, n):\n",
    "        return sorted(lib.book_ids, key=self.book_score, reverse=True)[:n]\n",
    "\n",
    "    def get_solution(self, selected_lib_ids=None):\n",
    "        if not selected_lib_ids:\n",
    "            selected_lib_ids = self.get_individual()\n",
    "        day = 0\n",
    "        selected_libraries = [copy.deepcopy(self.libraries[i]) for i in selected_lib_ids]\n",
    "        it = 0\n",
    "        already_scanned_books = set()\n",
    "        while it < len(selected_libraries):\n",
    "            next_library = selected_libraries[it]\n",
    "            day += next_library.signup_time\n",
    "            if day >= self.D:\n",
    "                break\n",
    "            next_library.book_ids = next_library.book_ids - already_scanned_books\n",
    "            next_library.book_ids = sorted(next_library.book_ids, key=self.book_score, reverse=True)[\n",
    "                                    :(self.D - day) * next_library.books_per_day]\n",
    "            already_scanned_books.update(next_library.book_ids)\n",
    "            it += 1\n",
    "        return selected_libraries[:it]\n",
    "\n",
    "    def get_individual(self):\n",
    "        pass"
   ]
  },
  {
   "cell_type": "markdown",
   "metadata": {},
   "source": [
    "### Heurystic Solver\n",
    "An abstract class that defines a way that every heurystic solver creates an individual. It does so by sorting libraries according to its heurystics and by choosing best one (library) till we have reached the deadline. Default heuristic function is f = S/signup_time\n",
    "#### Terminology for heurystic solvers\n",
    "* S - sum of best books\n",
    "* signup_time - library signup time\n",
    "* var(S) - variance of S\n",
    "* book_score - book score \n",
    "* book_libraries - number of libraries that have a book\n",
    "* D number of days\n",
    "*n length of N best books"
   ]
  },
  {
   "cell_type": "code",
   "execution_count": 8,
   "metadata": {},
   "outputs": [],
   "source": [
    "class HeuristicSolver(ProblemSolver):\n",
    "    def library_score(self, lib_id):\n",
    "        lib = self.libraries[lib_id]\n",
    "        delta_time = self.D - lib.signup_time\n",
    "        n_best_books = self.get_n_best_books(lib, delta_time * lib.books_per_day)\n",
    "        sum_of_best_book_scores = sum([self.book_values[book] for book in n_best_books])\n",
    "        return sum_of_best_book_scores / lib.signup_time\n",
    "\n",
    "    def get_individual(self):\n",
    "        lib_ids = [i for i in range(len(self.libraries))]\n",
    "        lib_ids.sort(key=self.library_score, reverse=True)\n",
    "        day = 0\n",
    "        chosen = []\n",
    "        for i in range(len(lib_ids)):\n",
    "            if day + self.libraries[lib_ids[i]].signup_time >= self.D:\n",
    "                continue\n",
    "            day += self.libraries[lib_ids[i]].signup_time\n",
    "            chosen.append(lib_ids[i])\n",
    "        return tuple(chosen)"
   ]
  },
  {
   "cell_type": "markdown",
   "metadata": {},
   "source": [
    "### Power Solver\n",
    "Heurystic solver with a given function f = S/(signup_time)^(1+signup_time/D) "
   ]
  },
  {
   "cell_type": "code",
   "execution_count": 9,
   "metadata": {},
   "outputs": [],
   "source": [
    "class PowerSolver(HeuristicSolver):\n",
    "    def library_score(self, lib_id):\n",
    "        lib = self.libraries[lib_id]\n",
    "        delta_time = self.D - lib.signup_time\n",
    "        n_best_books = self.get_n_best_books(lib, delta_time * lib.books_per_day)\n",
    "        sum_of_best_book_scores = sum([self.book_values[book] for book in n_best_books])\n",
    "        return sum_of_best_book_scores / lib.signup_time ** (1 + lib.signup_time / self.D)"
   ]
  },
  {
   "cell_type": "markdown",
   "metadata": {},
   "source": [
    "### SimpleScoreVarianceSolver\n",
    "Heurystic solver with a given function f = S/var(S)"
   ]
  },
  {
   "cell_type": "code",
   "execution_count": 10,
   "metadata": {},
   "outputs": [],
   "source": [
    "class SimpleScoreVarianceSolver(HeuristicSolver):\n",
    "    def library_score(self, lib_id):\n",
    "        lib = self.libraries[lib_id]\n",
    "        delta_time = self.D - lib.signup_time\n",
    "        n_best_books = self.get_n_best_books(lib, delta_time * lib.books_per_day)\n",
    "        best_scores = [self.book_values[book] for book in n_best_books]\n",
    "        sum_of_best_book_scores = sum(best_scores)\n",
    "        book_variance = max(0.001, np.var(best_scores))\n",
    "        return sum_of_best_book_scores / book_variance"
   ]
  },
  {
   "cell_type": "markdown",
   "metadata": {},
   "source": [
    "### SquareScoreVarianceSolver\n",
    "Heurystic solver with a given function f = (S^2)/(signup_time^2 * sqrt(var(S))"
   ]
  },
  {
   "cell_type": "code",
   "execution_count": 11,
   "metadata": {},
   "outputs": [],
   "source": [
    "class SquareScoreVarianceSolver(HeuristicSolver):\n",
    "    def library_score(self, lib_id):\n",
    "        lib = self.libraries[lib_id]\n",
    "        delta_time = self.D - lib.signup_time\n",
    "        n_best_books = self.get_n_best_books(lib, delta_time * lib.books_per_day)\n",
    "        best_scores = [self.book_values[book] for book in n_best_books]\n",
    "        sum_of_best_book_scores = sum(best_scores)\n",
    "        book_variance = max(0.001, np.var(best_scores))\n",
    "        return sum_of_best_book_scores ** 2 / (lib.signup_time * lib.signup_time * sqrt(book_variance))"
   ]
  },
  {
   "cell_type": "markdown",
   "metadata": {},
   "source": [
    "### BookNumbersSolver\n",
    "Heurystic solver with a given function f = S^2/(var(S)*n*signup_time) "
   ]
  },
  {
   "cell_type": "code",
   "execution_count": 12,
   "metadata": {},
   "outputs": [],
   "source": [
    "class BookNumbersSolver(HeuristicSolver):\n",
    "    def library_score(self, lib_id):\n",
    "        lib = self.libraries[lib_id]\n",
    "        delta_time = self.D - lib.signup_time\n",
    "        n_best_books = self.get_n_best_books(lib, delta_time * lib.books_per_day)\n",
    "        best_scores = [self.book_values[book] for book in n_best_books]\n",
    "        sum_of_best_book_scores = sum(best_scores)\n",
    "        book_variance = max(0.001, np.var(best_scores))\n",
    "        return sum_of_best_book_scores ** 2 / (book_variance * len(n_best_books) * lib.signup_time)"
   ]
  },
  {
   "cell_type": "markdown",
   "metadata": {},
   "source": [
    "### ScoreSquareSolver\n",
    "Heurystic solver with a given function f = S^2/(signup_time)"
   ]
  },
  {
   "cell_type": "code",
   "execution_count": 13,
   "metadata": {},
   "outputs": [],
   "source": [
    "class ScoreSquareSolver(HeuristicSolver):\n",
    "    def library_score(self, lib_id):\n",
    "        lib = self.libraries[lib_id]\n",
    "        delta_time = self.D - lib.signup_time\n",
    "        n_best_books = self.get_n_best_books(lib, delta_time * lib.books_per_day)\n",
    "        sum_of_best_book_scores = sum([self.book_values[book] for book in n_best_books])\n",
    "        return sum_of_best_book_scores ** 2 / lib.signup_time"
   ]
  },
  {
   "cell_type": "markdown",
   "metadata": {},
   "source": [
    "### BookCountSolver\n",
    "Heurystic solver with a book score function = book_value-length(book_libraries) "
   ]
  },
  {
   "cell_type": "code",
   "execution_count": 14,
   "metadata": {},
   "outputs": [],
   "source": [
    "class BookCountSolver(HeuristicSolver):\n",
    "    def book_score(self, book):\n",
    "        return self.book_values[book] - 0.7 * len(self.book_libraries[book])"
   ]
  },
  {
   "cell_type": "markdown",
   "metadata": {},
   "source": [
    "### BookCountPowerSolver\n",
    "Power solver with a book score function = book_value-length(book_libraries) "
   ]
  },
  {
   "cell_type": "code",
   "execution_count": 15,
   "metadata": {},
   "outputs": [],
   "source": [
    "class BookCountPowerSolver(PowerSolver):\n",
    "    def book_score(self, book):\n",
    "        return self.book_values[book] - 0.7 * len(self.book_libraries[book])"
   ]
  },
  {
   "cell_type": "markdown",
   "metadata": {},
   "source": [
    "### RandomSolver\n",
    "Shuffles library ids and selects them till it reaches the deadline."
   ]
  },
  {
   "cell_type": "code",
   "execution_count": 16,
   "metadata": {},
   "outputs": [],
   "source": [
    "class RandomSolver(ProblemSolver):\n",
    "    def get_individual(self):\n",
    "        lib_ids = [i for i in range(len(self.libraries))]\n",
    "        random.shuffle(lib_ids)\n",
    "        day = 0\n",
    "        for i in range(len(lib_ids)):\n",
    "            day += self.libraries[lib_ids[i]].signup_time\n",
    "            if day >= self.D:\n",
    "                return tuple(lib_ids[:i])\n",
    "        return tuple(lib_ids)"
   ]
  },
  {
   "cell_type": "markdown",
   "metadata": {},
   "source": [
    "### GreedyIntervalSolver\n",
    "Essentially a BookCountSolver. However it sorts libraries repeatedly every 25th iteration. Due to the fact that it needs to create a complete solution while creating individual, it does not inherit from Problem Solver. Instead it implements a method get_individual_from_solution, which returns an individual from solution."
   ]
  },
  {
   "cell_type": "code",
   "execution_count": 17,
   "metadata": {},
   "outputs": [],
   "source": [
    "class GreedyIntervalSolver:\n",
    "    def __init__(self, B, L, D, book_values, book_libraries, libraries):\n",
    "        self.B, self.L, self.D = B, L, D\n",
    "        self.book_values = book_values\n",
    "        self.libraries = copy.deepcopy(libraries)\n",
    "        self.book_libraries = copy.deepcopy(book_libraries)\n",
    "\n",
    "    def book_score(self, book_id):\n",
    "        return self.book_values[book_id] - 0.7 * len(self.book_libraries[book_id])\n",
    "\n",
    "    def get_n_best_books(self, lib, n):\n",
    "        return sorted(lib.book_ids, key=self.book_score, reverse=True)[:n]\n",
    "\n",
    "    def library_score(self, lib_id, current_day):\n",
    "        lib = self.libraries[lib_id]\n",
    "        delta_time = self.D - current_day - lib.signup_time\n",
    "        n_best_books = self.get_n_best_books(lib, min(delta_time * lib.books_per_day, len(lib.book_ids)))\n",
    "        sum_of_best_book_scores = sum([self.book_values[book] for book in n_best_books])\n",
    "        sum_of_best_book_scores /= lib.signup_time\n",
    "        return sum_of_best_book_scores\n",
    "\n",
    "    def get_solution(self):\n",
    "        remaining_libraries = set(lib.id for lib in self.libraries)\n",
    "        day = 0\n",
    "        chosen_libraries = []\n",
    "        it = 0\n",
    "        interval = 25\n",
    "        while len(remaining_libraries) > 0:\n",
    "            if it % interval == 0:\n",
    "                library_scores = [(self.library_score(lib_id, day), lib_id) for lib_id in remaining_libraries]\n",
    "            it += 1\n",
    "            max_el = max(library_scores, key=lambda x: x[0])\n",
    "            library_scores.remove(max_el)\n",
    "            score, lib_id = max_el\n",
    "            remaining_libraries.remove(lib_id)\n",
    "            library = self.libraries[lib_id]\n",
    "            if day + library.signup_time >= self.D:\n",
    "                break\n",
    "            day += library.signup_time\n",
    "            books_to_take = (self.D - day) * library.books_per_day\n",
    "            sorted_books = sorted(library.book_ids, key=self.book_score, reverse=True)\n",
    "            for book_id in sorted_books[:books_to_take]:\n",
    "                for lib_id in self.book_libraries[book_id]:\n",
    "                    if lib_id != library.id:\n",
    "                        self.libraries[lib_id].remove_book(book_id)\n",
    "\n",
    "            for book_id in sorted_books[books_to_take:]:\n",
    "                self.book_libraries[book_id].remove(library.id)\n",
    "\n",
    "            library.book_ids = sorted_books[:books_to_take]\n",
    "            chosen_libraries.append(library)\n",
    "        return chosen_libraries\n",
    "\n",
    "    def get_individual_from_solution(self, solution):\n",
    "        return tuple([lib.id for lib in solution])"
   ]
  },
  {
   "cell_type": "markdown",
   "metadata": {},
   "source": [
    "### GeneticSolver\n",
    "It is a problem solver that implements a genetic method. The solver stores scores fo all individuals in a dictionary, so if individuals are duplicatedm it does not need to recalulate  the individual's score. This algorithm generates its initial population using all previous solvers. Then it calculates their scores and performs the following operations till it runs out of time.\n",
    "* create a new population\n",
    "* preserve a defined percentage of population by selecting them by means of a tournament, those which win are added to a new population\n",
    "* while new population size is smaller than defined value, it performs the following steps:\n",
    "* * with propability of 50% it either mutates  individuals or performs a simulation of genetic cross-over.\n",
    "* *  then newly created individuals are added back to the new population\n",
    "After running of time we select the best individual and return it.\n",
    "\n",
    "#### Muation\n",
    "The mutation works in 2 ways with 50% probaility each.\n",
    "* local mutation - 4 swaps of 2 random libraries\n",
    "* external mutation - selects 4 random libraries with probability equal to it'ss score. Than it inserts them at random places in the gene.\n",
    "Cut operation is performed if the gene of an newly created individual is too long.\n",
    "\n",
    "#### Crossover\n",
    "First we select common and different ids from two selected individuals. Then we create children by taking indexes of common ids from one parent and placing \"different ids\" from second parent at places where previously were positioned \"different ids\" from the first parent.\n",
    "\n",
    "Example:\n",
    "\n",
    "parent1: 12453\n",
    "\n",
    "parent2: 36172\n",
    "\n",
    "child1: 12673\n",
    "\n",
    "child2: 34152"
   ]
  },
  {
   "cell_type": "code",
   "execution_count": 18,
   "metadata": {},
   "outputs": [],
   "source": [
    "class GeneticSolver(ProblemSolver):\n",
    "    def __init__(self, B, L, D, book_values, book_libraries, libraries,start_time, deadline = 240,pop_size=20, p_mutate=0.5, surv_rate=0.2,\n",
    "                 tournament_size=3):\n",
    "        super().__init__(B, L, D, book_values, book_libraries, libraries)\n",
    "        num = 1\n",
    "        length_of_libraries = len(libraries)\n",
    "        while num < pop_size and length_of_libraries != 1:\n",
    "            num *= length_of_libraries\n",
    "            length_of_libraries -= 1\n",
    "        self.pop_size = min(pop_size, num)\n",
    "        self.p_mutate = p_mutate\n",
    "        self.tournament_size = min(self.pop_size, tournament_size)\n",
    "        self.survival_rate = surv_rate\n",
    "        self.book_values = book_values\n",
    "        self.individual_scores = dict()\n",
    "        self.lib_ids = [i for i in range(len(libraries))]\n",
    "        self.lib_scores = [self.lib_score(lib) for lib in self.libraries]\n",
    "        self.start_time = start_time\n",
    "        self.deadline = deadline\n",
    "\n",
    "    def lib_score(self, lib):\n",
    "        delta_time = self.D - lib.signup_time\n",
    "        n_best_books = self.get_n_best_books(lib, delta_time * lib.books_per_day)\n",
    "        sum_of_best_book_scores = sum([self.book_values[book] for book in n_best_books])\n",
    "        return sum_of_best_book_scores / lib.signup_time\n",
    "\n",
    "    def mutate(self, individual):\n",
    "        new_one = list(individual)\n",
    "        if random.random() <= 0.5:\n",
    "            # internal mutation\n",
    "            length = len(new_one)\n",
    "            for i in range(4):\n",
    "                a, b = random.sample(range(length), 2)\n",
    "                new_one[a], new_one[b] = new_one[b], new_one[a]\n",
    "            return tuple(individual)\n",
    "        else:\n",
    "            # external mutation\n",
    "            additional = random.choices(self.lib_ids, k=4, weights=self.lib_scores)\n",
    "            unique = set(additional)\n",
    "            for un in unique:\n",
    "                new_one.insert(random.randrange(0, len(new_one)), un)\n",
    "            return self.cut(new_one)\n",
    "\n",
    "    def cut(self, new_one):\n",
    "        day = 0\n",
    "        chosen = set()\n",
    "        solution = []\n",
    "        for i in range(len(new_one)):\n",
    "            if new_one[i] not in chosen:\n",
    "                day += self.libraries[new_one[i]].signup_time\n",
    "                if day >= self.D:\n",
    "                    continue\n",
    "                solution.append(new_one[i])\n",
    "                chosen.add(new_one[i])\n",
    "        return tuple(solution)\n",
    "\n",
    "    def crossover(self, indiv_1, indiv_2):\n",
    "        set1 = set(indiv_1)\n",
    "        set2 = set(indiv_2)\n",
    "        common = set1.intersection(set2)\n",
    "        max_length = max(len(indiv_1), len(indiv_2))\n",
    "        child1, child2, = [-1] * max_length, [-1] * max_length\n",
    "        only1, only2 = [], []\n",
    "        for i in range(len(indiv_1)):\n",
    "            if indiv_1[i] in common:\n",
    "                child1[i] = indiv_1[i]\n",
    "            else:\n",
    "                only1.append(indiv_1[i])\n",
    "        for i in range(len(indiv_2)):\n",
    "            if indiv_2[i] in common:\n",
    "                child2[i] = indiv_2[i]\n",
    "            else:\n",
    "                only2.append(indiv_2[i])\n",
    "        for i in range(max_length):\n",
    "            if child1[i] == -1 and len(only2) > 0:\n",
    "                child1[i] = only2.pop(0)\n",
    "            if child2[i] == -1 and len(only1) > 0:\n",
    "                child2[i] = only1.pop(0)\n",
    "        child1 = [i for i in child1 if i != -1]\n",
    "        child2 = [i for i in child2 if i != -1]\n",
    "\n",
    "        child1 = self.cut(child1)\n",
    "        child2 = self.cut(child2)\n",
    "        if random.random() <= self.p_mutate:\n",
    "            child1 = self.mutate(child1)\n",
    "        if random.random() <= self.p_mutate:\n",
    "            child2 = self.mutate(child2)\n",
    "        return child1, child2\n",
    "\n",
    "    def tournament(self, indivs):\n",
    "        return max(indivs, key=self.individual_scores.get)\n",
    "\n",
    "    def get_initial_population(self):\n",
    "        solvers_cls = [HeuristicSolver, PowerSolver, SimpleScoreVarianceSolver, SquareScoreVarianceSolver,\n",
    "                       BookNumbersSolver, ScoreSquareSolver, BookCountSolver, BookCountPowerSolver]\n",
    "        solvers = [cl(self.B, self.L, self.D, self.book_values, self.book_libraries, self.libraries) for cl in\n",
    "                   solvers_cls]\n",
    "        population = [solver.get_individual() for solver in solvers]\n",
    "        greedyIntervalSolver = GreedyIntervalSolver(self.B, self.L, self.D, self.book_values, self.book_libraries,\n",
    "                                                    self.libraries)\n",
    "        greedyIntervalSolution = greedyIntervalSolver.get_solution()\n",
    "        gis_individual = greedyIntervalSolver.get_individual_from_solution(greedyIntervalSolution)\n",
    "        population.append(gis_individual)\n",
    "        self.individual_scores[gis_individual] = score_solution(greedyIntervalSolution, self.book_values)\n",
    "        print(\"Greedy interval score: \", self.individual_scores[gis_individual],\"time:\", time.time()-self.start_time)\n",
    "        randomSolver = RandomSolver(self.B, self.L, self.D, self.book_values, self.book_libraries, self.libraries)\n",
    "        while len(population) < self.pop_size:\n",
    "            population.append(randomSolver.get_individual())\n",
    "        return population\n",
    "\n",
    "    def get_individual(self):\n",
    "        population = self.get_initial_population()\n",
    "        for indiv in population:\n",
    "            sol = self.get_solution(indiv)\n",
    "            self.individual_scores[indiv] = score_solution(sol, self.book_values)\n",
    "        progress = []\n",
    "        times = []\n",
    "        while True:\n",
    "            progress.append(max(self.individual_scores.values()))\n",
    "            times.append(time.time() - self.start_time)\n",
    "            if time.time() - self.start_time > self.deadline:\n",
    "                break\n",
    "            new_population = [self.tournament(random.sample(population, self.tournament_size)) for i in\n",
    "                              range(int(self.pop_size * self.survival_rate))]\n",
    "            while len(new_population) < self.pop_size:\n",
    "                individual_1 = self.tournament(random.sample(population, self.tournament_size))\n",
    "                individual_2 = self.tournament(random.sample(population, self.tournament_size))\n",
    "                if random.random() <= 0.5:\n",
    "                    new_child1 = self.mutate(individual_1)\n",
    "                    new_child2 = self.mutate(individual_2)\n",
    "                else:\n",
    "                    new_child1, new_child2 = self.crossover(individual_1, individual_2)\n",
    "                if new_child1 not in self.individual_scores:\n",
    "                    self.individual_scores[new_child1] = score_solution(self.get_solution(new_child1), self.book_values)\n",
    "                if new_child2 not in self.individual_scores:\n",
    "                    self.individual_scores[new_child2] = score_solution(self.get_solution(new_child2), self.book_values)\n",
    "                new_population.append(new_child1)\n",
    "                new_population.append(new_child2)\n",
    "            population = tuple(new_population)\n",
    "        min_ = min(progress)\n",
    "        plt.title(\"Progress of score from: \" + str(min_) + \" to \" + str(max(progress)))\n",
    "        plt.plot(times, progress, color=\"blue\", label=\"Progress\", alpha=0.5, linewidth=2)\n",
    "        plt.plot(times, [min_ for x in range(0, len(times))], linestyle=\"--\", linewidth=1, color=\"red\",\n",
    "                 label=\"Base level\", alpha=0.5)\n",
    "        plt.xlabel(\"time [s]\")\n",
    "        plt.ylabel(\"score [-]\")\n",
    "        plt.legend()\n",
    "        plt.show()\n",
    "        print(\"Genetic Progress:\", max(progress) - min_)\n",
    "        print(\"Score from GA:\", max(progress))\n",
    "        return max(self.individual_scores, key=self.individual_scores.get)"
   ]
  },
  {
   "cell_type": "markdown",
   "metadata": {},
   "source": [
    "### MutationHillClimbingSolver\n",
    "After receiving the result from GeneticSolver it performs a sort of \"randomized hill climbing\". Hill climber performs the very same mutations as in GeneticSolver. Using these mutations it creates a neighbourhood of a size 10, and then  it selects the best individual. If selected individual is better than current best individual it becomes our (current best) individual."
   ]
  },
  {
   "cell_type": "code",
   "execution_count": 19,
   "metadata": {},
   "outputs": [],
   "source": [
    "class MutationHillClimbingSolver(ProblemSolver):\n",
    "    def __init__(self, B, L, D, book_values, book_libraries, libraries, individual_scores,start_time, deadline = 260, neighbourhood_size=10):\n",
    "        super().__init__(B, L, D, book_values, book_libraries, libraries)\n",
    "        self.neighbourhood_size = neighbourhood_size\n",
    "        self.individual_scores = individual_scores\n",
    "        self.lib_ids = [i for i in range(len(libraries))]\n",
    "        self.lib_scores = [self.lib_score(lib) for lib in self.libraries]\n",
    "        self.deadline = deadline\n",
    "        self.start_time = start_time\n",
    "\n",
    "    def lib_score(self, lib):\n",
    "        delta_time = self.D - lib.signup_time\n",
    "        n_best_books = self.get_n_best_books(lib, delta_time * lib.books_per_day)\n",
    "        sum_of_best_book_scores = sum([self.book_values[book] for book in n_best_books])\n",
    "        return sum_of_best_book_scores / lib.signup_time\n",
    "\n",
    "    def mutate(self, individual):\n",
    "        new_one = list(individual)\n",
    "        if random.random() <= 0.5:\n",
    "            # internal mutation\n",
    "            length = len(new_one)\n",
    "            for i in range(4):\n",
    "                a, b = random.sample(range(length), 2)\n",
    "                new_one[a], new_one[b] = new_one[b], new_one[a]\n",
    "            return tuple(individual)\n",
    "        else:\n",
    "            # external mutation\n",
    "            additional = random.choices(self.lib_ids, k=4, weights=self.lib_scores)\n",
    "            unique = set(additional)\n",
    "            for un in unique:\n",
    "                new_one.insert(random.randrange(0, len(new_one)), un)\n",
    "            return self.cut(new_one)\n",
    "\n",
    "    def cut(self, new_one):\n",
    "        day = 0\n",
    "        chosen = set()\n",
    "        solution = []\n",
    "        for i in range(len(new_one)):\n",
    "            if new_one[i] not in chosen:\n",
    "                day += self.libraries[new_one[i]].signup_time\n",
    "                if day >= self.D:\n",
    "                    continue\n",
    "                solution.append(new_one[i])\n",
    "                chosen.add(new_one[i])\n",
    "        return tuple(solution)\n",
    "\n",
    "    def get_individual(self, start_individual):\n",
    "        cur_best = copy.copy(start_individual)\n",
    "        cur_best_score = self.individual_scores[cur_best]\n",
    "        progress = [cur_best_score]\n",
    "        while time.time() - self.start_time < self.deadline:\n",
    "            neighbourhood = []\n",
    "            n_scores = []\n",
    "            for i in range(self.neighbourhood_size):\n",
    "                new_one = self.mutate(cur_best)\n",
    "                if new_one not in self.individual_scores:\n",
    "                    new_solution = self.get_solution(new_one)\n",
    "                    new_score = score_solution(new_solution, self.book_values)\n",
    "                    self.individual_scores[new_one] = new_score\n",
    "                else:\n",
    "                    new_score = self.individual_scores[new_one]\n",
    "                neighbourhood.append(new_one)\n",
    "                n_scores.append(new_score)\n",
    "            new_max_score = max(n_scores)\n",
    "            new_max_score_index = n_scores.index(new_max_score)\n",
    "            if new_max_score > cur_best_score:\n",
    "                cur_best = neighbourhood[new_max_score_index]\n",
    "                cur_best_score = new_max_score\n",
    "            progress.append(cur_best_score)\n",
    "        print(\"Climber progress:\", max(progress)-self.individual_scores[start_individual])\n",
    "        return cur_best"
   ]
  },
  {
   "cell_type": "markdown",
   "metadata": {},
   "source": [
    "### Max Flow Max Cost\n",
    "After the MutationHillClimbingSolver returns an individual (generated by the genetic solver) we are trying to optimize book to library assignment for a given library ordering. To do that, we firstly use google ortools to solve first max flow, then max cost problem. To do so, we are create a flow graph. It will consists of source vertex(node). For each library we are going to create a node that connects it to a source with an edge with flow = (D-day_when_lib_signup_completed)*books_per_day and cost = 0. For each book we create a node, the node is connected to every library that has given book, with edge with flow = 1 and cost = 0. There is also an edge from book nodes to a sink with flow =1 and cost = -book_value. (we are using -book_value, because our solver solves min cost problem, so in that way we trick the algorithm into selecting the books with the highest value.\n",
    "\n",
    "\n",
    "First we are going to use max_flow solver from ortools to find what is the maximum number of books that can be scanned by all libraries. Then we can use that flow as a value of flow for source node (with + sign0 and for sink node (with - sign). Then we can use min cost solver from ortools, that really solves transportation problem (but assigning flow value to just a sink and source makes it just a min cost problem), to see which books are going to give us the highest score.\n",
    "\n",
    "##### Note: \n",
    "We can use max flow (and not anything smaller), because in our graph there are no edges with cost of different sign (+,-), so no book has a negative effect. It is also due to the fact that edges to and from books have unit flow."
   ]
  },
  {
   "cell_type": "code",
   "execution_count": 20,
   "metadata": {},
   "outputs": [],
   "source": [
    "#max flow functions\n",
    "def generate_book_to_node_assignment(number_of_libraries, all_book_ids):\n",
    "    book_to_node = dict()\n",
    "    node_to_book = dict()\n",
    "    counter = 1\n",
    "    for book_id in all_book_ids:\n",
    "        node_nr = number_of_libraries + counter\n",
    "        book_to_node[book_id] = node_nr\n",
    "        node_to_book[node_nr] = book_id\n",
    "        counter += 1\n",
    "    return book_to_node, node_to_book\n",
    "\n",
    "\n",
    "def lib_to_node(lib_id):\n",
    "    return lib_id + 1\n",
    "\n",
    "\n",
    "def node_to_lib(node):\n",
    "    return node - 1"
   ]
  },
  {
   "cell_type": "code",
   "execution_count": 21,
   "metadata": {},
   "outputs": [],
   "source": [
    "def solve_one_example_with_genetic_climber_max_flow(file_path, file_to, deadline_for_genetic, deadline_for_hill_climber,\n",
    "                                                    flag=True):\n",
    "    start_time = time.time()\n",
    "    print(\"File:\", str(file_path))\n",
    "    (B, L, D), book_values, book_counts, libraries = process_file(file_path)\n",
    "    libraries_backup = copy.deepcopy(libraries)\n",
    "    genetic_solver = GeneticSolver(B, L, D, book_values, book_counts, libraries, start_time,\n",
    "                                   deadline=deadline_for_genetic)\n",
    "    individual = genetic_solver.get_individual()\n",
    "    check_solution(D, genetic_solver.get_solution(selected_lib_ids=individual))\n",
    "    score_from_genetic = score_solution(genetic_solver.get_solution(selected_lib_ids=individual), book_values)\n",
    "\n",
    "    hill_climber_solver = MutationHillClimbingSolver(B, L, D, book_values, book_counts, libraries,\n",
    "                                                     genetic_solver.individual_scores,start_time,\n",
    "                                                     deadline=deadline_for_hill_climber)\n",
    "    # Creating new individual with hill_climber\n",
    "    individual = hill_climber_solver.get_individual(individual)\n",
    "    climbed_solution = hill_climber_solver.get_solution(individual)\n",
    "    check_solution(D, climbed_solution)\n",
    "    climbed_score = score_solution(climbed_solution, book_values)\n",
    "    print(\"Score after climbing:\", climbed_score)\n",
    "\n",
    "    libraries = libraries_backup\n",
    "\n",
    "    all_book_ids = set()\n",
    "    for lib_id in individual:\n",
    "        all_book_ids.update(libraries[lib_id].book_ids)\n",
    "    book_to_node, node_to_book = generate_book_to_node_assignment(len(individual), all_book_ids)\n",
    "\n",
    "    start_nodes = []\n",
    "    end_nodes = []\n",
    "    capacities = []\n",
    "    unit_costs = []\n",
    "\n",
    "    source = 0\n",
    "    sink = len(individual) + len(all_book_ids) + 1\n",
    "    day = 0\n",
    "\n",
    "    # from source to lib\n",
    "    for i in range(len(individual)):\n",
    "        day += libraries[individual[i]].signup_time\n",
    "        start_nodes.append(source)\n",
    "        end_nodes.append(lib_to_node(i))\n",
    "        capacities.append((D - day) * libraries[individual[i]].books_per_day)\n",
    "        unit_costs.append(0)\n",
    "\n",
    "    # from lib to book\n",
    "    for i in range(len(individual)):\n",
    "        for book_id in libraries[individual[i]].book_ids:\n",
    "            start_nodes.append(lib_to_node(i))\n",
    "            end_nodes.append(book_to_node[book_id])\n",
    "            capacities.append(1)\n",
    "            unit_costs.append(0)\n",
    "\n",
    "    # from book to sink\n",
    "    for book_id in all_book_ids:\n",
    "        start_nodes.append(book_to_node[book_id])\n",
    "        end_nodes.append(sink)\n",
    "        capacities.append(1)\n",
    "        unit_costs.append(-book_values[book_id])\n",
    "\n",
    "    max_flow = pywrapgraph.SimpleMaxFlow()\n",
    "    # Add each arc.\n",
    "    for i in range(0, len(start_nodes)):\n",
    "        max_flow.AddArcWithCapacity(start_nodes[i], end_nodes[i], capacities[i])\n",
    "    max_flow.Solve(0, sink)\n",
    "\n",
    "    if max_flow.Solve(0, sink) != max_flow.OPTIMAL:\n",
    "        raise Exception(\"Failed with max_flow\", max_flow.OptimalFlow())\n",
    "\n",
    "    optimal_flow = max_flow.OptimalFlow()\n",
    "\n",
    "    supplies = [0 for i in range(sink + 1)]\n",
    "    supplies[0] = optimal_flow\n",
    "    supplies[-1] = -optimal_flow\n",
    "\n",
    "    min_cost_flow = pywrapgraph.SimpleMinCostFlow()\n",
    "\n",
    "    # Add each arc.\n",
    "    for i in range(0, len(start_nodes)):\n",
    "        min_cost_flow.AddArcWithCapacityAndUnitCost(start_nodes[i], end_nodes[i],\n",
    "                                                    capacities[i], unit_costs[i])\n",
    "    for i in range(0, len(supplies)):\n",
    "        min_cost_flow.SetNodeSupply(i, supplies[i])\n",
    "\n",
    "    if min_cost_flow.Solve() != min_cost_flow.OPTIMAL:\n",
    "        print(\"Failed with max_flow_max_cost\")\n",
    "\n",
    "    solution = []\n",
    "    for lib_id in individual:\n",
    "        lib2 = copy.deepcopy(libraries[lib_id])\n",
    "        lib2.book_ids = set()\n",
    "        solution.append(lib2)\n",
    "    for i in range(min_cost_flow.NumArcs()):\n",
    "        from_node = min_cost_flow.Tail(i)\n",
    "        to_node = min_cost_flow.Head(i)\n",
    "        flow = min_cost_flow.Flow(i)\n",
    "\n",
    "        if lib_to_node(0) <= from_node <= lib_to_node(len(individual) - 1) and flow == 1:\n",
    "            lib_index = node_to_lib(from_node)\n",
    "            book_id = node_to_book[to_node]\n",
    "            solution[lib_index].book_ids.add(book_id)\n",
    "\n",
    "    check_solution(D, solution)\n",
    "    score = score_solution(solution, book_values)\n",
    "    print(\"Score after optimizing book distribution:\", str(score) + \".\", \"Progress:\", score - score_from_genetic)\n",
    "    print(\"Time elapsed:\", time.time() - start_time)\n",
    "    print()\n",
    "    save_solution_to_file(solution, file_to, flag=flag)\n",
    "    return score"
   ]
  },
  {
   "cell_type": "markdown",
   "metadata": {},
   "source": [
    "### Getting sollution\n",
    "\n",
    "After running min_cost algorithm we transform it output to get the best books to library assignments and save/or print result in desired output format and also we calculate the score."
   ]
  },
  {
   "cell_type": "code",
   "execution_count": 22,
   "metadata": {},
   "outputs": [],
   "source": [
    "def solve_with_flow_and_genetic_and_hill_climber(file_paths, time_for_genetic, time_for_hill_climber):\n",
    "    max_score = 0\n",
    "    for file_path in file_paths:\n",
    "        score = solve_one_example_with_genetic_climber_max_flow(file_path, \"\", time_for_genetic, time_for_hill_climber,\n",
    "                                                        flag=False)\n",
    "        max_score += score\n",
    "    print(\"Sum of scores:\", max_score)"
   ]
  },
  {
   "cell_type": "code",
   "execution_count": 23,
   "metadata": {},
   "outputs": [],
   "source": [
    "file_paths = ['a_example.txt', 'b_read_on.txt', 'c_incunabula.txt', 'd_tough_choices.txt', 'e_so_many_books.txt',\n",
    "              'f_libraries_of_the_world.txt']"
   ]
  },
  {
   "cell_type": "markdown",
   "metadata": {},
   "source": [
    "### Results\n",
    "Now we run our algorithm and check the results. For every file we present value of output at different stages of computation, as well as graph that show progress during runtime of the genetic algorithm. At the end we print sum of all scores. We decided that genetic algorithm should finish at 260s of computation and hill climbing at 280s of computation, because currently ortools functions run for up to 3s, but for larger examples they can run longer so 17 s seems to be a safe surplus for us."
   ]
  },
  {
   "cell_type": "code",
   "execution_count": 24,
   "metadata": {},
   "outputs": [
    {
     "name": "stdout",
     "output_type": "stream",
     "text": [
      "File: a_example.txt\n",
      "Greedy interval score:  21 time: 0.0009160041809082031\n"
     ]
    },
    {
     "data": {
      "image/png": "[encoded data removed]",
      "text/plain": [
       "<Figure size 432x288 with 1 Axes>"
      ]
     },
     "metadata": {
      "needs_background": "light"
     },
     "output_type": "display_data"
    },
    {
     "name": "stdout",
     "output_type": "stream",
     "text": [
      "Genetic Progress: 0\n",
      "Score from GA: 21\n",
      "Climber progress: 0\n",
      "Score after climbing: 21\n",
      "Score after optimizing book distribution: 21. Progress: 0\n",
      "Time elapsed: 280.0020115375519\n",
      "\n",
      "File: b_read_on.txt\n",
      "Greedy interval score:  5822900 time: 6.146183490753174\n"
     ]
    },
    {
     "data": {
      "image/png": "[encoded data removed]",
      "text/plain": [
       "<Figure size 432x288 with 1 Axes>"
      ]
     },
     "metadata": {
      "needs_background": "light"
     },
     "output_type": "display_data"
    },
    {
     "name": "stdout",
     "output_type": "stream",
     "text": [
      "Genetic Progress: 0\n",
      "Score from GA: 5822900\n",
      "Climber progress: 0\n",
      "Score after climbing: 5822900\n",
      "Score after optimizing book distribution: 5822900. Progress: 0\n",
      "Time elapsed: 280.63885164260864\n",
      "\n",
      "File: c_incunabula.txt\n",
      "Greedy interval score:  5687459 time: 13.100662231445312\n"
     ]
    },
    {
     "data": {
      "image/png": "[encoded data removed]",
      "text/plain": [
       "<Figure size 432x288 with 1 Axes>"
      ]
     },
     "metadata": {
      "needs_background": "light"
     },
     "output_type": "display_data"
    },
    {
     "name": "stdout",
     "output_type": "stream",
     "text": [
      "Genetic Progress: 976\n",
      "Score from GA: 5688435\n",
      "Climber progress: 0\n",
      "Score after climbing: 5688435\n",
      "Score after optimizing book distribution: 5688435. Progress: 0\n",
      "Time elapsed: 280.3547029495239\n",
      "\n",
      "File: d_tough_choices.txt\n",
      "Greedy interval score:  4975360 time: 71.94074964523315\n"
     ]
    },
    {
     "data": {
      "image/png": "[encoded data removed]",
      "text/plain": [
       "<Figure size 432x288 with 1 Axes>"
      ]
     },
     "metadata": {
      "needs_background": "light"
     },
     "output_type": "display_data"
    },
    {
     "name": "stdout",
     "output_type": "stream",
     "text": [
      "Genetic Progress: 910\n",
      "Score from GA: 4976270\n",
      "Climber progress: 130\n",
      "Score after climbing: 4976400\n",
      "Score after optimizing book distribution: 4976400. Progress: 130\n",
      "Time elapsed: 281.7655248641968\n",
      "\n",
      "File: e_so_many_books.txt\n",
      "Greedy interval score:  5057067 time: 12.934185028076172\n"
     ]
    },
    {
     "data": {
      "image/png": "[encoded data removed]",
      "text/plain": [
       "<Figure size 432x288 with 1 Axes>"
      ]
     },
     "metadata": {
      "needs_background": "light"
     },
     "output_type": "display_data"
    },
    {
     "name": "stdout",
     "output_type": "stream",
     "text": [
      "Genetic Progress: 34881\n",
      "Score from GA: 5090390\n",
      "Climber progress: 79\n",
      "Score after climbing: 5090469\n",
      "Score after optimizing book distribution: 5210401. Progress: 120011\n",
      "Time elapsed: 280.70972299575806\n",
      "\n",
      "File: f_libraries_of_the_world.txt\n",
      "Greedy interval score:  5240157 time: 13.188772439956665\n"
     ]
    },
    {
     "data": {
      "image/png": "[encoded data removed]",
      "text/plain": [
       "<Figure size 432x288 with 1 Axes>"
      ]
     },
     "metadata": {
      "needs_background": "light"
     },
     "output_type": "display_data"
    },
    {
     "name": "stdout",
     "output_type": "stream",
     "text": [
      "Genetic Progress: 77899\n",
      "Score from GA: 5318060\n",
      "Climber progress: 0\n",
      "Score after climbing: 5318060\n",
      "Score after optimizing book distribution: 5318060. Progress: 0\n",
      "Time elapsed: 280.1358916759491\n",
      "\n",
      "Sum of scores: 27016217\n"
     ]
    }
   ],
   "source": [
    "solve_with_flow_and_genetic_and_hill_climber(file_paths, 260, 280)"
   ]
  },
  {
   "cell_type": "markdown",
   "metadata": {},
   "source": [
    "### Conclusions\n",
    "In our opinion our algorithm performs pretty well. It always scores above 27mln in total. From previous graphs and our previous experiments it is clearly visible that good initial population (and that way good interval greedy/ heurystic algorithms) is the key to succes. Our genetic algorithm gives us more or less +0.1mln in the total score. What surprised us is that hill climbing algorithm barely improves results in most cases. That is why we decided to give it just 20s of the enterity of available time. However, when processing example g it gives us better results per unit of time than genetic algorithm, and that is why we decided to keep it. While for most cases our max flow min cost optimization does not improve results at all, it gives us around 0.1-0.15 mln improve in score, so it was definately a very good decision to use it."
   ]
  },
  {
   "cell_type": "markdown",
   "metadata": {},
   "source": [
    "### Sources\n",
    "During developing our algorithm we uses and developed ideas contained in the following articles:\n",
    "* https://medium.com/@achille.nazaret/hashcode-2020-1e1ef62e1229\n",
    "* https://medium.com/better-programming/google-hash-code-2020-how-we-took-98-5-of-the-best-score-e5b6fa4abc1b\n",
    "* https://towardsdatascience.com/google-hash-code-2020-a-greedy-approach-2dd4587b6033\n",
    "\n",
    "Link to ORTools:\n",
    "\n",
    "https://developers.google.com/optimization"
   ]
  }
 ],
 "metadata": {
  "kernelspec": {
   "display_name": "Python 3",
   "language": "python",
   "name": "python3"
  },
  "language_info": {
   "codemirror_mode": {
    "name": "ipython",
    "version": 3
   },
   "file_extension": ".py",
   "mimetype": "text/x-python",
   "name": "python",
   "nbconvert_exporter": "python",
   "pygments_lexer": "ipython3",
   "version": "3.8.5"
  }
 },
 "nbformat": 4,
 "nbformat_minor": 4
}
