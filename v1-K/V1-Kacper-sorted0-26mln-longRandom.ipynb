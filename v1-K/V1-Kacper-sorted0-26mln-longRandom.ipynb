{
 "cells": [
  {
   "cell_type": "code",
   "execution_count": 15,
   "metadata": {},
   "outputs": [],
   "source": [
    "import numpy, matplotlib, time, copy, random\n",
    "%load_ext line_profiler\n",
    "directory = '../data/'\n",
    "file_paths = ['a_example.txt', 'b_read_on.txt', 'c_incunabula.txt','d_tough_choices.txt', 'e_so_many_books.txt', 'f_libraries_of_the_world.txt']"
   ]
  },
  {
   "cell_type": "code",
   "execution_count": 2,
   "metadata": {},
   "outputs": [],
   "source": [
    "class Library():\n",
    "    def __init__(self,index,N,T,M, book_ids: set):\n",
    "        self.id = index\n",
    "        self.size  = N\n",
    "        self.signup_time = T\n",
    "        self.books_per_day = M\n",
    "        self.book_ids = book_ids\n",
    "        \n",
    "    def get_n_best_books(self,n, book_values):\n",
    "        result = [];\n",
    "        k=0\n",
    "        for i in range(len(self.book_ids)):\n",
    "            if book_values[self.book_ids[i]] != 0:\n",
    "                result.append(self.book_ids[i])\n",
    "                k+=1\n",
    "                if k == n:\n",
    "                    return tuple(result)\n",
    "        return tuple(result)\n",
    "    \n",
    "    def __str__(self):\n",
    "        return str(self.__class__) + \": \" + str(self.__dict__)\n",
    "        \n",
    "        \n",
    "\n",
    "def process_file(filePath):\n",
    "    with open(directory+filePath,'r') as file:\n",
    "        content = file.read().split('\\n')[:-1];\n",
    "        B,L,D = content[0].split()\n",
    "        B,L,D = int(B),int(L),int(D)\n",
    "    bookValues = [int(n) for n in content[1].split()]#tuple([int(n) for n in content[1].split()])\n",
    "    libraries = []\n",
    "    def book_sort(book):\n",
    "        return bookValues[book]\n",
    "    for i in range(L):\n",
    "        N,T,M = content[2+2*i].split()\n",
    "        N,T,M=int(N),int(T),int(M)\n",
    "        book_ids = tuple(sorted([int(id) for id in content[2+2*i+1].split()], key = book_sort, reverse=True))\n",
    "        libraries.append(Library(i,N,T,M,book_ids))\n",
    "    return ((B,L,D), bookValues, libraries)"
   ]
  },
  {
   "cell_type": "code",
   "execution_count": 3,
   "metadata": {},
   "outputs": [],
   "source": [
    "def check_solution(D, libraries):\n",
    "    days = 0\n",
    "    prev_books = set()\n",
    "    for library in libraries:\n",
    "        days+=library.signup_time\n",
    "        if len(library.book_ids) > (D-days)*library.books_per_day:\n",
    "            print(\"what\", len(library.book_ids), (D-days)*library.books_per_day)\n",
    "        assert(not any([(book in prev_books) for book in library.book_ids]))\n",
    "        prev_books.update(library.book_ids)\n",
    "    assert(days < D)"
   ]
  },
  {
   "cell_type": "code",
   "execution_count": 22,
   "metadata": {},
   "outputs": [
    {
     "name": "stdout",
     "output_type": "stream",
     "text": [
      "c_incunabula.txt\n",
      "2151702\n",
      "2174657\n",
      "2270352\n",
      "2316553\n",
      "Loc max: 2316553\n",
      "SUM SCORES 0\n"
     ]
    }
   ],
   "source": [
    "def get_best_solution(file_path):\n",
    "    (B,L,D),book_values, libraries = process_file(file_path)\n",
    "    \n",
    "    def library_score(lib):\n",
    "        delta_time = D - lib.signup_time\n",
    "        n_best_books = lib.get_n_best_books(delta_time*lib.signup_time, book_values)\n",
    "        sum_of_best_book_scores = sum([book_values[book] for book in n_best_books])\n",
    "        return sum_of_best_book_scores/lib.signup_time**(1+lib.signup_time/D)\n",
    "    \n",
    "    \n",
    "    lib_scores = [library_score(lib) for lib in libraries]\n",
    "    def get_score(selected_lib_ids):\n",
    "        local_book_values = copy.copy(book_values)\n",
    "        day = 0\n",
    "        def book_sort(book):\n",
    "            return local_book_values[book]\n",
    "        sorted_libraries = [copy.copy(libraries[i]) for i in selected_lib_ids]\n",
    "        it=0;\n",
    "        while it < len(sorted_libraries):\n",
    "            next_library = sorted_libraries[it]\n",
    "            day+=next_library.signup_time\n",
    "            if day>=D:\n",
    "                break\n",
    "            next_library.book_ids = next_library.get_n_best_books((D-day)*next_library.books_per_day, local_book_values)\n",
    "            for book_id in next_library.book_ids:\n",
    "                local_book_values[book_id] = 0\n",
    "            it+=1\n",
    "        score = 0\n",
    "        for i in range(0,it):\n",
    "            for idk in sorted_libraries[i].book_ids:\n",
    "                score+=book_values[idk]    \n",
    "        check_solution(D, sorted_libraries[:it])\n",
    "        return score\n",
    "    \n",
    "    def get_random_individual():\n",
    "        indiv = []\n",
    "        already_chosen = set()\n",
    "        while len(indiv) < len(libraries):\n",
    "            ids = random.choices(range(len(libraries)),k = len(libraries), weights = lib_scores)\n",
    "            for idk in ids:\n",
    "                if not (idk in already_chosen):\n",
    "#                     print(\"###\", already_chosen, indiv, idk)\n",
    "                    already_chosen.add(idk)\n",
    "                    indiv.append(idk)\n",
    "        d = 0\n",
    "        for i in range(len(indiv)):\n",
    "            d+=libraries[indiv[i]].signup_time\n",
    "            if d >= D:\n",
    "                return indiv[:i]\n",
    "        return indiv\n",
    "    \n",
    "    max_score = get_score([i for i in range(len(libraries))])\n",
    "    for i in range(0,100):\n",
    "        rand_indiv = get_random_individual()\n",
    "#         print(rand_indiv)\n",
    "        score = get_score(rand_indiv)\n",
    "        if(score > max_score):\n",
    "            max_score = score\n",
    "            print(max_score)\n",
    "    print(\"Loc max:\", max_score)\n",
    "    return max_score\n",
    "    \n",
    "sum_scores = 0\n",
    "for file_path in file_paths[2:3]:\n",
    "    print(file_path)\n",
    "    %lprun -f get_best_solution get_best_solution(file_path)\n",
    "print(\"SUM SCORES\", sum_scores)"
   ]
  },
  {
   "cell_type": "code",
   "execution_count": 5,
   "metadata": {},
   "outputs": [
    {
     "ename": "SyntaxError",
     "evalue": "'return' outside function (<ipython-input-5-3155dfd86144>, line 2)",
     "output_type": "error",
     "traceback": [
      "\u001b[0;36m  File \u001b[0;32m\"<ipython-input-5-3155dfd86144>\"\u001b[0;36m, line \u001b[0;32m2\u001b[0m\n\u001b[0;31m    return sum_of_best_book_scores/lib.signup_time**(1+lib.signup_time/D)\u001b[0m\n\u001b[0m                                                                         ^\u001b[0m\n\u001b[0;31mSyntaxError\u001b[0m\u001b[0;31m:\u001b[0m 'return' outside function\n"
     ]
    }
   ],
   "source": [
    "#IDEAS\n",
    "return sum_of_best_book_scores/lib.signup_time**(1+lib.signup_time/D)"
   ]
  }
 ],
 "metadata": {
  "kernelspec": {
   "display_name": "Python 3",
   "language": "python",
   "name": "python3"
  },
  "language_info": {
   "codemirror_mode": {
    "name": "ipython",
    "version": 3
   },
   "file_extension": ".py",
   "mimetype": "text/x-python",
   "name": "python",
   "nbconvert_exporter": "python",
   "pygments_lexer": "ipython3",
   "version": "3.7.6"
  }
 },
 "nbformat": 4,
 "nbformat_minor": 4
}
