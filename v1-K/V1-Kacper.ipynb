{
 "cells": [
  {
   "cell_type": "code",
   "execution_count": 1,
   "metadata": {},
   "outputs": [],
   "source": [
    "import numpy, matplotlib\n",
    "directory = '../data/'\n",
    "file_paths = ['a_example.txt', 'b_read_on.txt', 'c_incunabula.txt','d_tough_choices.txt', 'e_so_many_books.txt', 'f_libraries_of_the_world.txt']"
   ]
  },
  {
   "cell_type": "code",
   "execution_count": 23,
   "metadata": {},
   "outputs": [],
   "source": [
    "class Library():\n",
    "    def __init__(self,index,N,T,M, book_ids: set):\n",
    "        self.id = index\n",
    "        self.size  = N\n",
    "        self.signup_time = T\n",
    "        self.books_per_day = M\n",
    "        self.book_ids = book_ids\n",
    "    \n",
    "    def __str__(self):\n",
    "        return str(self.__class__) + \": \" + str(self.__dict__)\n",
    "        \n",
    "        \n",
    "\n",
    "def process_file(filePath):\n",
    "    with open(directory+filePath,'r') as file:\n",
    "        content = file.read().split('\\n')[:-1];\n",
    "        B,L,D = content[0].split()\n",
    "        B,L,D = int(B),int(L),int(D)\n",
    "    bookValues = tuple(content[1].split())\n",
    "    libraries = []\n",
    "    for i in range(L):\n",
    "        N,T,M = content[2+2*i].split()\n",
    "        N,T,M=int(N),int(T),int(M)\n",
    "        book_ids = set([int(id) for id in content[2+2*i+1].split()])\n",
    "        libraries.append(Library(i,N,T,M,book_ids))\n",
    "    return ((B,L,D), bookValues, libraries)"
   ]
  },
  {
   "cell_type": "code",
   "execution_count": 24,
   "metadata": {},
   "outputs": [
    {
     "name": "stdout",
     "output_type": "stream",
     "text": [
      "a_example.txt\n",
      "CPU times: user 184 µs, sys: 0 ns, total: 184 µs\n",
      "Wall time: 218 µs\n",
      "b_read_on.txt\n",
      "CPU times: user 753 ms, sys: 0 ns, total: 753 ms\n",
      "Wall time: 757 ms\n",
      "c_incunabula.txt\n",
      "CPU times: user 1min 3s, sys: 4 ms, total: 1min 3s\n",
      "Wall time: 1min 3s\n",
      "d_tough_choices.txt\n",
      "CPU times: user 13min 11s, sys: 95.9 ms, total: 13min 11s\n",
      "Wall time: 13min 11s\n",
      "e_so_many_books.txt\n",
      "CPU times: user 21.7 s, sys: 12 ms, total: 21.7 s\n",
      "Wall time: 21.7 s\n",
      "f_libraries_of_the_world.txt\n",
      "CPU times: user 3.55 s, sys: 0 ns, total: 3.55 s\n",
      "Wall time: 3.54 s\n"
     ]
    }
   ],
   "source": [
    "def get_score(file_path):\n",
    "    (B,L,D),bookValues, libraries = process_file(file_path)\n",
    "#     print(\"B L D\",B,L,D)\n",
    "    chosen_libraries = []\n",
    "    already_scanned_books = set()\n",
    "    day = 0\n",
    "    def book_sort(book):\n",
    "        return bookValues[book]\n",
    "    def library_score(lib):\n",
    "#         print(D,day,lib.signup_time)\n",
    "        time = D - day - lib.signup_time\n",
    "        return sum(sorted(lib.book_ids,key = book_sort, reverse=True)[:min(time*lib.books_per_day,lib.size)])/lib.signup_time\n",
    "    \n",
    "    while day < D and libraries:\n",
    "        library_scores = [library_score(lib) for lib in libraries]\n",
    "        next_library_index = library_scores.index(max(library_scores))\n",
    "        next_library = libraries[next_library_index]\n",
    "        next_library.book_ids = set(list(next_library.book_ids)[:min((D-day-next_library.signup_time)*next_library.books_per_day,len(next_library.book_ids))])\n",
    "        already_scanned_books.update(next_library.book_ids)\n",
    "        chosen_libraries.append(next_library)\n",
    "        libraries.pop(next_library_index)\n",
    "        for library in libraries:\n",
    "            library.book_ids.difference_update(next_library.book_ids)\n",
    "        \n",
    "        day+=next_library.signup_time\n",
    "        \n",
    "    return chosen_libraries\n",
    "for file_path in file_paths:\n",
    "    print(file_path)\n",
    "    %time get_score(file_path)"
   ]
  },
  {
   "cell_type": "code",
   "execution_count": 12,
   "metadata": {},
   "outputs": [
    {
     "data": {
      "text/plain": [
       "[]"
      ]
     },
     "execution_count": 12,
     "metadata": {},
     "output_type": "execute_result"
    }
   ],
   "source": [
    "L=[0,1,2,3,4,5]\n",
    "del L[-8:]\n",
    "L"
   ]
  },
  {
   "cell_type": "code",
   "execution_count": 19,
   "metadata": {},
   "outputs": [
    {
     "data": {
      "text/plain": [
       "{3, 4, 5}"
      ]
     },
     "execution_count": 19,
     "metadata": {},
     "output_type": "execute_result"
    }
   ],
   "source": []
  },
  {
   "cell_type": "code",
   "execution_count": null,
   "metadata": {},
   "outputs": [],
   "source": []
  }
 ],
 "metadata": {
  "kernelspec": {
   "display_name": "Python 3",
   "language": "python",
   "name": "python3"
  },
  "language_info": {
   "codemirror_mode": {
    "name": "ipython",
    "version": 3
   },
   "file_extension": ".py",
   "mimetype": "text/x-python",
   "name": "python",
   "nbconvert_exporter": "python",
   "pygments_lexer": "ipython3",
   "version": "3.7.6"
  }
 },
 "nbformat": 4,
 "nbformat_minor": 4
}
