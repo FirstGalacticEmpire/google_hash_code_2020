{
 "cells": [
  {
   "cell_type": "code",
   "execution_count": 2,
   "metadata": {},
   "outputs": [],
   "source": [
    "import numpy as np, matplotlib, time, copy, random, math\n",
    "%load_ext line_profiler\n",
    "directory = '../data/'\n",
    "file_paths = ['a_example.txt', 'b_read_on.txt', 'c_incunabula.txt','d_tough_choices.txt', 'e_so_many_books.txt', 'f_libraries_of_the_world.txt']"
   ]
  },
  {
   "cell_type": "markdown",
   "metadata": {},
   "source": [
    "### Utils"
   ]
  },
  {
   "cell_type": "code",
   "execution_count": 3,
   "metadata": {},
   "outputs": [],
   "source": [
    "ALPHA = 1"
   ]
  },
  {
   "cell_type": "code",
   "execution_count": 4,
   "metadata": {},
   "outputs": [],
   "source": [
    "def process_file(filePath):\n",
    "    with open(directory+filePath,'r') as file:\n",
    "        content = file.read().split('\\n')[:-1];\n",
    "        B,L,D = content[0].split()\n",
    "        B,L,D = int(B),int(L),int(D)\n",
    "    bookValues = [int(n) for n in content[1].split()]#tuple([int(n) for n in content[1].split()])\n",
    "    bookCounts = [0]*B\n",
    "    libraries = []\n",
    "    def book_sort(book):\n",
    "        return bookValues[book]\n",
    "    for i in range(L):\n",
    "        N,T,M = content[2+2*i].split()\n",
    "        N,T,M=int(N),int(T),int(M)\n",
    "        book_ids = set([int(id) for id in content[2+2*i+1].split()])\n",
    "        for book_id in book_ids:\n",
    "            bookCounts[book_id] +=1\n",
    "        libraries.append(Library(i,N,T,M,book_ids))\n",
    "    return ((B,L,D), bookValues,bookCounts, libraries)"
   ]
  },
  {
   "cell_type": "code",
   "execution_count": 5,
   "metadata": {},
   "outputs": [],
   "source": [
    "def check_solution(D, libraries):\n",
    "    days = 0\n",
    "    prev_books = set()\n",
    "    for library in libraries:\n",
    "        days+=library.signup_time\n",
    "        if len(library.book_ids) > (D-days)*library.books_per_day:\n",
    "            print(\"what\", len(library.book_ids), (D-days)*library.books_per_day)\n",
    "        assert(len(library.book_ids) == len(set(library.book_ids)))\n",
    "        assert(not any([(book in prev_books) for book in library.book_ids]))\n",
    "        prev_books.update(library.book_ids)\n",
    "    assert(days < D)\n",
    "    \n",
    "def score_solution(libraries, book_values):\n",
    "    score=0\n",
    "    for library in libraries:\n",
    "        for book_id in library.book_ids:\n",
    "            score+= book_values[book_id]\n",
    "    return score"
   ]
  },
  {
   "cell_type": "markdown",
   "metadata": {},
   "source": [
    "### Classes"
   ]
  },
  {
   "cell_type": "code",
   "execution_count": 6,
   "metadata": {},
   "outputs": [],
   "source": [
    "class Library():\n",
    "    def __init__(self,index,N,T,M, book_ids: set):\n",
    "        self.id = index\n",
    "        self.size  = N\n",
    "        self.signup_time = T\n",
    "        self.books_per_day = M\n",
    "        self.book_ids = book_ids\n",
    "    \n",
    "    def __str__(self):\n",
    "        return str(self.__class__) + \": \" + str(self.__dict__)"
   ]
  },
  {
   "cell_type": "code",
   "execution_count": 7,
   "metadata": {},
   "outputs": [],
   "source": [
    "class ProblemSolver:\n",
    "    def __init__(self, B, L, D, book_values, book_counts, libraries):\n",
    "        self.B, self.L, self.D = B,L,D\n",
    "        self.book_values = book_values\n",
    "        self.libraries = libraries\n",
    "        self.book_counts = book_counts\n",
    "        \n",
    "    def book_score(self, book):\n",
    "        return self.book_values[book]\n",
    "        \n",
    "    def get_solution(self,selected_lib_ids=None):\n",
    "        if not selected_lib_ids:\n",
    "            selected_lib_ids = self.get_individual()\n",
    "        local_book_values = copy.copy(self.book_values)\n",
    "        day = 0\n",
    "        selected_libraries = [copy.copy(self.libraries[i]) for i in selected_lib_ids]\n",
    "        it=0;\n",
    "        already_scanned_books = set()\n",
    "        while it < len(selected_libraries):\n",
    "            next_library = selected_libraries[it]\n",
    "            day+=next_library.signup_time\n",
    "            if day>=self.D:\n",
    "                break\n",
    "            next_library.book_ids = next_library.book_ids - already_scanned_books\n",
    "            next_library.book_ids = sorted(next_library.book_ids,key=self.book_score, reverse=True)[:(self.D-day)*next_library.books_per_day]\n",
    "            already_scanned_books.update(next_library.book_ids)\n",
    "            it+=1\n",
    "        return selected_libraries[:it]\n",
    "    \n",
    "    def get_individual(self):\n",
    "        pass"
   ]
  },
  {
   "cell_type": "code",
   "execution_count": 8,
   "metadata": {},
   "outputs": [],
   "source": [
    "class HeurysticSolver(ProblemSolver):\n",
    "    def get_n_best_books(self,lib, n):\n",
    "        return sorted(lib.book_ids,key=self.book_score, reverse=True)[:n]\n",
    "    \n",
    "    def library_score(self,lib_id):\n",
    "        lib = self.libraries[lib_id]\n",
    "        delta_time = self.D - lib.signup_time\n",
    "        n_best_books = self.get_n_best_books(lib, delta_time*lib.books_per_day)\n",
    "        sum_of_best_book_scores = sum([self.book_values[book] for book in n_best_books])\n",
    "        return sum_of_best_book_scores/lib.signup_time\n",
    "    \n",
    "    def get_individual(self):\n",
    "        lib_ids = [i for i in range(len(self.libraries))]\n",
    "        lib_ids.sort(key = self.library_score, reverse= True)\n",
    "        day = 0\n",
    "        for i in range(len(lib_ids)):\n",
    "            day+=self.libraries[lib_ids[i]].signup_time\n",
    "            if day >= self.D:\n",
    "                return tuple(lib_ids[:i])\n",
    "        return tuple(lib_ids)"
   ]
  },
  {
   "cell_type": "code",
   "execution_count": 9,
   "metadata": {},
   "outputs": [],
   "source": [
    "class PowerSolver(HeurysticSolver):\n",
    "    def library_score(self,lib_id):\n",
    "        lib = self.libraries[lib_id]\n",
    "        delta_time = self.D - lib.signup_time\n",
    "        n_best_books = self.get_n_best_books(lib, delta_time*lib.books_per_day)\n",
    "        sum_of_best_book_scores = sum([self.book_values[book] for book in n_best_books])\n",
    "        return sum_of_best_book_scores/lib.signup_time**(1+lib.signup_time/self.D)"
   ]
  },
  {
   "cell_type": "code",
   "execution_count": 10,
   "metadata": {},
   "outputs": [],
   "source": [
    "class SimpleScoreVarianceSolver(HeurysticSolver):\n",
    "    def library_score(self,lib_id):\n",
    "        lib = self.libraries[lib_id]\n",
    "        delta_time = self.D - lib.signup_time\n",
    "        n_best_books = self.get_n_best_books(lib, delta_time*lib.books_per_day)\n",
    "        best_scores = [self.book_values[book] for book in n_best_books]\n",
    "        sum_of_best_book_scores = sum(best_scores)\n",
    "        book_variance = max(0.001,np.var(best_scores))\n",
    "        return sum_of_best_book_scores/book_variance"
   ]
  },
  {
   "cell_type": "code",
   "execution_count": 11,
   "metadata": {},
   "outputs": [],
   "source": [
    "class SquareScoreVarianceSolver(HeurysticSolver):\n",
    "    def library_score(self,lib_id):\n",
    "        lib = self.libraries[lib_id]\n",
    "        delta_time = self.D - lib.signup_time\n",
    "        n_best_books = self.get_n_best_books(lib, delta_time*lib.books_per_day)\n",
    "        best_scores = [self.book_values[book] for book in n_best_books]\n",
    "        sum_of_best_book_scores = sum(best_scores)\n",
    "        book_variance = max(0.001,np.var(best_scores))\n",
    "        return sum_of_best_book_scores**2/(lib.signup_time*lib.signup_time*math.sqrt(book_variance))"
   ]
  },
  {
   "cell_type": "code",
   "execution_count": 12,
   "metadata": {},
   "outputs": [],
   "source": [
    "class BookNumbersSolver(HeurysticSolver):\n",
    "    def library_score(self,lib_id):\n",
    "        lib = self.libraries[lib_id]\n",
    "        delta_time = self.D - lib.signup_time\n",
    "        n_best_books = self.get_n_best_books(lib, delta_time*lib.books_per_day)\n",
    "        best_scores = [self.book_values[book] for book in n_best_books]\n",
    "        sum_of_best_book_scores = sum(best_scores)\n",
    "        book_variance = max(0.001,np.var(best_scores))\n",
    "        return sum_of_best_book_scores**2/(book_variance*len(n_best_books)*lib.signup_time)"
   ]
  },
  {
   "cell_type": "code",
   "execution_count": 13,
   "metadata": {},
   "outputs": [],
   "source": [
    "class ScoreSquareSolver(HeurysticSolver):\n",
    "    def library_score(self,lib_id):\n",
    "        lib = self.libraries[lib_id]\n",
    "        delta_time = self.D - lib.signup_time\n",
    "        n_best_books = self.get_n_best_books(lib, delta_time*lib.books_per_day)\n",
    "        sum_of_best_book_scores = sum([self.book_values[book] for book in n_best_books])\n",
    "        return sum_of_best_book_scores**2/lib.signup_time"
   ]
  },
  {
   "cell_type": "code",
   "execution_count": 14,
   "metadata": {},
   "outputs": [],
   "source": [
    "class BookCountSolver(HeurysticSolver):\n",
    "    def book_score(self, book):\n",
    "        return self.book_values[book] - 0.7*self.book_counts[book]"
   ]
  },
  {
   "cell_type": "code",
   "execution_count": 15,
   "metadata": {},
   "outputs": [],
   "source": [
    "class BookCountPowerSolver(PowerSolver):\n",
    "    def book_score(self, book):\n",
    "        return self.book_values[book] - 0.7*self.book_counts[book]"
   ]
  },
  {
   "cell_type": "code",
   "execution_count": 16,
   "metadata": {},
   "outputs": [
    {
     "name": "stdout",
     "output_type": "stream",
     "text": [
      "CPU times: user 579 µs, sys: 307 µs, total: 886 µs\n",
      "Wall time: 661 µs\n",
      "[21, 21, 21, 21, 21, 21, 21, 21]\n",
      "21\n",
      "CPU times: user 425 ms, sys: 0 ns, total: 425 ms\n",
      "Wall time: 423 ms\n",
      "[5822900, 5822900, 5822900, 5822900, 5822900, 5822900, 5822900, 5822900]\n",
      "5822900\n",
      "CPU times: user 1.95 s, sys: 28.5 ms, total: 1.97 s\n",
      "Wall time: 1.94 s\n",
      "[5645747, 5640815, 1167633, 5632921, 5307077, 5525478, 5645747, 5640815]\n",
      "5645747\n",
      "CPU times: user 5.52 s, sys: 13.6 ms, total: 5.53 s\n",
      "Wall time: 5.52 s\n",
      "[4815395, 4815395, 4815395, 4815395, 4815395, 4815395, 4815395, 4815395]\n",
      "4815395\n",
      "CPU times: user 2.01 s, sys: 305 µs, total: 2.01 s\n",
      "Wall time: 2 s\n",
      "[5020017, 5022146, 773970, 4791445, 2796593, 4741433, 5021339, 5022881]\n",
      "5022881\n",
      "CPU times: user 2.26 s, sys: 3.4 ms, total: 2.26 s\n",
      "Wall time: 2.26 s\n",
      "[5240161, 5238624, 1195114, 5211764, 4111186, 5083231, 5240157, 5238622]\n",
      "5240161\n",
      "SUM 26547105\n"
     ]
    }
   ],
   "source": [
    "sum_score = 0\n",
    "solvers_cls = [HeurysticSolver, PowerSolver, SimpleScoreVarianceSolver, SquareScoreVarianceSolver, BookNumbersSolver, ScoreSquareSolver, BookCountSolver, BookCountPowerSolver]\n",
    "for file_path in file_paths:\n",
    "    (B,L,D),book_values,book_counts, libraries = process_file(file_path)\n",
    "    solvers = [cl(B,L,D,book_values,book_counts, libraries) for cl in solvers_cls]\n",
    "    %time solutions = [solver.get_solution() for solver in solvers]\n",
    "#     print(list(lib.id for lib in solutions[0]))\n",
    "    [check_solution(D, solution) for solution in solutions]\n",
    "    scores = [score_solution(solution, book_values) for solution in solutions]\n",
    "    print(scores)\n",
    "    score = max(scores)\n",
    "    print(score)\n",
    "    sum_score+=score\n",
    "print(\"SUM\",sum_score)"
   ]
  },
  {
   "cell_type": "code",
   "execution_count": 13,
   "metadata": {},
   "outputs": [
    {
     "name": "stdout",
     "output_type": "stream",
     "text": [
      "21\n",
      "5822900\n",
      "5645747\n",
      "4815395\n",
      "4642132\n",
      "5240161\n",
      "26166356\n"
     ]
    }
   ],
   "source": [
    "sum_score = 0\n",
    "for file_path in file_paths:\n",
    "    (B,L,D),book_values, libraries = process_file(file_path)\n",
    "    solver = HeurysticSolver(B,L,D,book_values, libraries)\n",
    "    solution = solver.get_solution()\n",
    "    check_solution(D, solution)\n",
    "    power_solver = PowerSolver(B,L,D,book_values, libraries)\n",
    "    power_solution = power_solver.get_solution()\n",
    "    check_solution(D, power_solution)\n",
    "    score = max(score_solution(solution, book_values), score_solution(power_solution, book_values))\n",
    "    print(score)\n",
    "    sum_score +=score\n",
    "print(sum_score)"
   ]
  }
 ],
 "metadata": {
  "kernelspec": {
   "display_name": "Python 3",
   "language": "python",
   "name": "python3"
  },
  "language_info": {
   "codemirror_mode": {
    "name": "ipython",
    "version": 3
   },
   "file_extension": ".py",
   "mimetype": "text/x-python",
   "name": "python",
   "nbconvert_exporter": "python",
   "pygments_lexer": "ipython3",
   "version": "3.7.6"
  }
 },
 "nbformat": 4,
 "nbformat_minor": 4
}
