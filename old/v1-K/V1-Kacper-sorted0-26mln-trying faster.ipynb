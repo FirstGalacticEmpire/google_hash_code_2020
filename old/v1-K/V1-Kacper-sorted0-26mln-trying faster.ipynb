{
 "cells": [
  {
   "cell_type": "code",
   "execution_count": 1,
   "metadata": {},
   "outputs": [],
   "source": [
    "import numpy, matplotlib, time, copy, random\n",
    "directory = '../data/'\n",
    "file_paths = ['a_example.txt', 'b_read_on.txt', 'c_incunabula.txt','d_tough_choices.txt', 'e_so_many_books.txt', 'f_libraries_of_the_world.txt']"
   ]
  },
  {
   "cell_type": "code",
   "execution_count": 2,
   "metadata": {},
   "outputs": [],
   "source": [
    "class Library():\n",
    "    def __init__(self,index,N,T,M, book_ids: set):\n",
    "        self.id = index\n",
    "        self.size  = N\n",
    "        self.signup_time = T\n",
    "        self.books_per_day = M\n",
    "        self.book_ids = book_ids\n",
    "    \n",
    "    def __str__(self):\n",
    "        return str(self.__class__) + \": \" + str(self.__dict__)\n",
    "        \n",
    "        \n",
    "\n",
    "def process_file(filePath):\n",
    "    with open(directory+filePath,'r') as file:\n",
    "        content = file.read().split('\\n')[:-1];\n",
    "        B,L,D = content[0].split()\n",
    "        B,L,D = int(B),int(L),int(D)\n",
    "    bookValues = [int(n) for n in content[1].split()]#tuple([int(n) for n in content[1].split()])\n",
    "    libraries = []\n",
    "    def book_sort(book):\n",
    "        return bookValues[book]\n",
    "    for i in range(L):\n",
    "        N,T,M = content[2+2*i].split()\n",
    "        N,T,M=int(N),int(T),int(M)\n",
    "        book_ids = tuple(sorted([int(id) for id in content[2+2*i+1].split()], key = book_sort, reverse=True))\n",
    "        libraries.append(Library(i,N,T,M,book_ids))\n",
    "    return ((B,L,D), bookValues, libraries)"
   ]
  },
  {
   "cell_type": "code",
   "execution_count": 3,
   "metadata": {},
   "outputs": [],
   "source": [
    "def check_solution(D, libraries):\n",
    "    days = 0\n",
    "    prev_books = set()\n",
    "    for library in libraries:\n",
    "        days+=library.signup_time\n",
    "        if len(library.book_ids) > (D-days)*library.books_per_day:\n",
    "            print(\"what\", len(library.book_ids), (D-days)*library.books_per_day)\n",
    "        assert(not any([(book in prev_books) for book in library.book_ids]))\n",
    "        prev_books.update(library.book_ids)\n",
    "    assert(days < D)"
   ]
  },
  {
   "cell_type": "code",
   "execution_count": 12,
   "metadata": {},
   "outputs": [
    {
     "name": "stdout",
     "output_type": "stream",
     "text": [
      "a_example.txt\n",
      "96.6 µs ± 58.2 µs per loop (mean ± std. dev. of 7 runs, 3 loops each)\n",
      "b_read_on.txt\n",
      "77.9 ms ± 597 µs per loop (mean ± std. dev. of 7 runs, 3 loops each)\n",
      "c_incunabula.txt\n",
      "183 ms ± 4.19 ms per loop (mean ± std. dev. of 7 runs, 3 loops each)\n",
      "d_tough_choices.txt\n",
      "383 ms ± 5.88 ms per loop (mean ± std. dev. of 7 runs, 3 loops each)\n",
      "e_so_many_books.txt\n",
      "289 ms ± 4.75 ms per loop (mean ± std. dev. of 7 runs, 3 loops each)\n",
      "f_libraries_of_the_world.txt\n",
      "335 ms ± 6.88 ms per loop (mean ± std. dev. of 7 runs, 3 loops each)\n",
      "SUM SCORES 0\n"
     ]
    }
   ],
   "source": [
    "def get_best_solution(file_path):\n",
    "    (B,L,D),book_values, libraries = process_file(file_path)\n",
    "    \n",
    "    def get_score(selected_lib_ids):\n",
    "        local_book_values = copy.copy(book_values)\n",
    "        day = 0\n",
    "        already_scanned_books  = set()\n",
    "        def library_score(lib):\n",
    "            delta_time = D - lib.signup_time\n",
    "            n_best_books = lib.book_ids[:min(len(lib.book_ids), delta_time*lib.books_per_day)]\n",
    "            sum_of_best_book_scores = sum([local_book_values[book] for book in n_best_books])\n",
    "            return sum_of_best_book_scores/lib.signup_time\n",
    "        sorted_libraries = sorted([copy.copy(libraries[i]) for i in selected_lib_ids],key=library_score, reverse=True)\n",
    "        it=0;\n",
    "        while it < len(sorted_libraries):\n",
    "            next_library = sorted_libraries[it]\n",
    "            cutted_b_ids = []\n",
    "            for book_id in next_library.book_ids:\n",
    "                if not( book_id in already_scanned_books):\n",
    "                    cutted_b_ids.append(book_id)\n",
    "            next_library.book_ids = tuple(cutted_b_ids)\n",
    "            day+=next_library.signup_time\n",
    "            if day>=D:\n",
    "                break\n",
    "            next_library.book_ids = next_library.book_ids[:min(len(next_library.book_ids), (D-day)*next_library.books_per_day)]\n",
    "            already_scanned_books.update(next_library.book_ids)\n",
    "            it+=1\n",
    "        score = 0\n",
    "        for i in range(0,it):\n",
    "            for idk in sorted_libraries[i].book_ids:\n",
    "                score+=book_values[idk]    \n",
    "        check_solution(D, sorted_libraries[:it])\n",
    "#         print(\"Scoer \", score)\n",
    "        return score\n",
    "    \n",
    "    max_score = get_score([i for i in range(len(libraries))])\n",
    "    return max_score\n",
    "    \n",
    "sum_scores = 0\n",
    "for file_path in file_paths:\n",
    "    print(file_path)\n",
    "    %timeit -n 3 get_best_solution(file_path)\n",
    "print(\"SUM SCORES\", sum_scores)"
   ]
  },
  {
   "cell_type": "code",
   "execution_count": null,
   "metadata": {},
   "outputs": [],
   "source": []
  }
 ],
 "metadata": {
  "kernelspec": {
   "display_name": "Python 3",
   "language": "python",
   "name": "python3"
  },
  "language_info": {
   "codemirror_mode": {
    "name": "ipython",
    "version": 3
   },
   "file_extension": ".py",
   "mimetype": "text/x-python",
   "name": "python",
   "nbconvert_exporter": "python",
   "pygments_lexer": "ipython3",
   "version": "3.7.6"
  }
 },
 "nbformat": 4,
 "nbformat_minor": 4
}
