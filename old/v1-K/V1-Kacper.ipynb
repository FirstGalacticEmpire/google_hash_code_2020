{
 "cells": [
  {
   "cell_type": "code",
   "execution_count": 2,
   "metadata": {},
   "outputs": [],
   "source": [
    "import numpy, matplotlib, time\n",
    "import line_profiler\n",
    "%load_ext line_profiler\n",
    "directory = '../data/'\n",
    "file_paths = ['a_example.txt', 'b_read_on.txt', 'c_incunabula.txt','d_tough_choices.txt', 'e_so_many_books.txt', 'f_libraries_of_the_world.txt']"
   ]
  },
  {
   "cell_type": "code",
   "execution_count": 3,
   "metadata": {},
   "outputs": [],
   "source": [
    "class Library():\n",
    "    def __init__(self,index,N,T,M, book_ids: set):\n",
    "        self.id = index\n",
    "        self.size  = N\n",
    "        self.signup_time = T\n",
    "        self.books_per_day = M\n",
    "        self.book_ids = book_ids\n",
    "    \n",
    "    def __str__(self):\n",
    "        return str(self.__class__) + \": \" + str(self.__dict__)\n",
    "        \n",
    "        \n",
    "\n",
    "def process_file(filePath):\n",
    "    with open(directory+filePath,'r') as file:\n",
    "        content = file.read().split('\\n')[:-1];\n",
    "        B,L,D = content[0].split()\n",
    "        B,L,D = int(B),int(L),int(D)\n",
    "    bookValues = tuple([int(n) for n in content[1].split()])\n",
    "    libraries = []\n",
    "    for i in range(L):\n",
    "        N,T,M = content[2+2*i].split()\n",
    "        N,T,M=int(N),int(T),int(M)\n",
    "        book_ids = set([int(id) for id in content[2+2*i+1].split()])\n",
    "        libraries.append(Library(i,N,T,M,book_ids))\n",
    "    return ((B,L,D), bookValues, libraries)"
   ]
  },
  {
   "cell_type": "code",
   "execution_count": 4,
   "metadata": {},
   "outputs": [],
   "source": [
    "def check_solution(D, libraries):\n",
    "#     print(\"D \",D)\n",
    "    days = 0\n",
    "    prev_books = set()\n",
    "    for library in libraries:\n",
    "#         print(\"#################\")\n",
    "#         print(\"Library id\", library.id)\n",
    "#         print(\"signup\", library.signup_time)\n",
    "#         print(\"Books per day\", library.books_per_day)\n",
    "#         print(\"all books\", len(library.book_ids))\n",
    "# #         print(\"##############\")\n",
    "        days+=library.signup_time\n",
    "#         if len(library.book_ids) > (D-days)*library.books_per_day:\n",
    "#             print(\"what\", len(library.book_ids), (D-days)*library.books_per_day)\n",
    "#         elif len(library.book_ids) < (D-days)*library.books_per_day:\n",
    "#             print(\"warning\", len(library.book_ids), (D-days)*library.books_per_day)\n",
    "        assert(not any([(book in prev_books) for book in library.book_ids]))\n",
    "        prev_books.update(library.book_ids)\n",
    "    assert(days <= D)"
   ]
  },
  {
   "cell_type": "code",
   "execution_count": 5,
   "metadata": {
    "scrolled": true
   },
   "outputs": [
    {
     "name": "stdout",
     "output_type": "stream",
     "text": [
      "a_example.txt\n",
      "CPU times: user 0 ns, sys: 1.81 ms, total: 1.81 ms\n",
      "Wall time: 1.09 ms\n",
      "21\n",
      "b_read_on.txt\n",
      "CPU times: user 600 ms, sys: 7.47 ms, total: 607 ms\n",
      "Wall time: 605 ms\n",
      "5278400\n",
      "c_incunabula.txt\n",
      "CPU times: user 56.8 s, sys: 3.6 ms, total: 56.8 s\n",
      "Wall time: 56.8 s\n",
      "5571679\n",
      "d_tough_choices.txt\n",
      "CPU times: user 13min 38s, sys: 75.3 ms, total: 13min 38s\n",
      "Wall time: 13min 39s\n",
      "4976985\n",
      "e_so_many_books.txt\n",
      "CPU times: user 18.8 s, sys: 37.9 ms, total: 18.9 s\n",
      "Wall time: 18.9 s\n",
      "4682967\n",
      "f_libraries_of_the_world.txt\n",
      "CPU times: user 3.43 s, sys: 8 ms, total: 3.44 s\n",
      "Wall time: 3.44 s\n",
      "5224326\n",
      "SUM SCORE 25734378\n"
     ]
    }
   ],
   "source": [
    "def get_score(file_path):\n",
    "    (B,L,D),bookValues, libraries = process_file(file_path)\n",
    "#     print(\"B L D\",B,L,D)\n",
    "    chosen_libraries = []\n",
    "    already_scanned_books = set()\n",
    "    day = 0\n",
    "    def book_sort(book):\n",
    "        return bookValues[book]\n",
    "    def library_score(lib):\n",
    "#         print(D,day,lib.signup_time)\n",
    "        time = D - day - lib.signup_time\n",
    "        return sum(sorted(lib.book_ids,key = book_sort, reverse=True)[:min(time*lib.books_per_day,lib.size)])/lib.signup_time\n",
    "    \n",
    "    while libraries:\n",
    "        library_scores = [library_score(lib) for lib in libraries]\n",
    "        next_library_index = library_scores.index(max(library_scores))\n",
    "        next_library = libraries[next_library_index]\n",
    "        day+=next_library.signup_time\n",
    "        if day >= D:\n",
    "            break\n",
    "        next_library.book_ids = set(sorted(next_library.book_ids, key = book_sort, reverse=True)[:min((D-day)*next_library.books_per_day,len(next_library.book_ids))])\n",
    "        already_scanned_books.update(next_library.book_ids)\n",
    "        chosen_libraries.append(next_library)\n",
    "        libraries.pop(next_library_index)\n",
    "        for library in libraries:\n",
    "            library.book_ids-=next_library.book_ids\n",
    "        \n",
    "#     print(len(chosen_libraries))\n",
    "    score = 0\n",
    "    for library in chosen_libraries:\n",
    "        for idk in library.book_ids:\n",
    "            score+=bookValues[idk]\n",
    "    check_solution(D,chosen_libraries)\n",
    "    return score\n",
    "sum_score = 0\n",
    "for file_path in file_paths:\n",
    "    print(file_path)\n",
    "    %time score=get_score(file_path)\n",
    "    sum_score += score\n",
    "    print(score)\n",
    "print(\"SUM SCORE\", sum_score)"
   ]
  },
  {
   "cell_type": "code",
   "execution_count": 5,
   "metadata": {},
   "outputs": [],
   "source": [
    "# LIBRAIES = []\n",
    "# BOOK_SCORES = []\n",
    "\n",
    "# #individual [list of ids of chosen libraries in order]\n",
    "# def GE():\n",
    "#     startTime = time.time()\n",
    "#     population = []#ids\n",
    "#     scores = []\n",
    "#     while time.time() < startTime + 290:\n",
    "        \n",
    "    "
   ]
  },
  {
   "cell_type": "code",
   "execution_count": 6,
   "metadata": {},
   "outputs": [],
   "source": [
    "# def get_score(chosen_libraries, days):\n",
    "#     for library in chosen_libraries:\n",
    "        "
   ]
  },
  {
   "cell_type": "code",
   "execution_count": 9,
   "metadata": {},
   "outputs": [
    {
     "name": "stdout",
     "output_type": "stream",
     "text": [
      "a_example.txt\n",
      "68.8 µs ± 24.6 µs per loop (mean ± std. dev. of 7 runs, 10 loops each)\n",
      "b_read_on.txt\n",
      "78.6 ms ± 412 µs per loop (mean ± std. dev. of 7 runs, 10 loops each)\n",
      "c_incunabula.txt\n",
      "161 ms ± 600 µs per loop (mean ± std. dev. of 7 runs, 10 loops each)\n",
      "d_tough_choices.txt\n",
      "334 ms ± 2.05 ms per loop (mean ± std. dev. of 7 runs, 10 loops each)\n",
      "e_so_many_books.txt\n",
      "318 ms ± 467 µs per loop (mean ± std. dev. of 7 runs, 10 loops each)\n",
      "f_libraries_of_the_world.txt\n",
      "316 ms ± 961 µs per loop (mean ± std. dev. of 7 runs, 10 loops each)\n",
      "SUM SCORES 0\n"
     ]
    }
   ],
   "source": [
    "def get_score(file_path):\n",
    "    (B,L,D),bookValues, libraries = process_file(file_path)\n",
    "#     print(\"B L D\",B,L,D)\n",
    "    already_scanned_books = set()\n",
    "    day = 0\n",
    "    def book_sort(book):\n",
    "        return bookValues[book]\n",
    "    def library_score(lib):\n",
    "        time = D - lib.signup_time\n",
    "        return sum(sorted(lib.book_ids,key = book_sort, reverse=True)[:min(time*lib.books_per_day,lib.size)])/lib.signup_time\n",
    "#     print(time.time())\n",
    "    sorted_libraries = sorted(libraries,key=library_score, reverse=True)\n",
    "#     print(time.time())\n",
    "    it=0;\n",
    "    while it < len(sorted_libraries):\n",
    "        next_library = sorted_libraries[it]\n",
    "        day+=next_library.signup_time\n",
    "        if day>=D:\n",
    "            break\n",
    "        next_library.book_ids = next_library.book_ids - already_scanned_books\n",
    "#         print(\"Max capacity\", (D-day)*next_library.books_per_day)\n",
    "        next_library.book_ids = set(sorted(next_library.book_ids, key = book_sort, reverse=True)[:min((D-day)*next_library.books_per_day,len(next_library.book_ids))])\n",
    "#         print(\"Actual capacity\", len(next_library.book_ids))\n",
    "        already_scanned_books.update(next_library.book_ids)\n",
    "        sorted_libraries[it] = next_library\n",
    "        it+=1\n",
    "#     print(time.time())\n",
    "    score = 0\n",
    "    for i in range(0,it):\n",
    "        for idk in sorted_libraries[i].book_ids:\n",
    "            score+=bookValues[idk]\n",
    "#     print(\"SCORE \",score)\n",
    "    \n",
    "    check_solution(D, sorted_libraries[:it])\n",
    "    return score\n",
    "sum_scores = 0\n",
    "for file_path in file_paths:\n",
    "    print(file_path)\n",
    "    %timeit -n 10 get_score(file_path)\n",
    "print(\"SUM SCORES\", sum_scores)"
   ]
  },
  {
   "cell_type": "code",
   "execution_count": null,
   "metadata": {},
   "outputs": [],
   "source": []
  }
 ],
 "metadata": {
  "kernelspec": {
   "display_name": "Python 3",
   "language": "python",
   "name": "python3"
  },
  "language_info": {
   "codemirror_mode": {
    "name": "ipython",
    "version": 3
   },
   "file_extension": ".py",
   "mimetype": "text/x-python",
   "name": "python",
   "nbconvert_exporter": "python",
   "pygments_lexer": "ipython3",
   "version": "3.7.6"
  }
 },
 "nbformat": 4,
 "nbformat_minor": 4
}
