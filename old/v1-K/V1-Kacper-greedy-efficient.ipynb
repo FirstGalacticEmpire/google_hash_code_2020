{
 "cells": [
  {
   "cell_type": "code",
   "execution_count": 89,
   "metadata": {},
   "outputs": [
    {
     "name": "stdout",
     "output_type": "stream",
     "text": [
      "The line_profiler extension is already loaded. To reload it, use:\n",
      "  %reload_ext line_profiler\n"
     ]
    }
   ],
   "source": [
    "import numpy as np, matplotlib, time, copy, random, math\n",
    "from sortedcontainers import SortedSet, SortedList\n",
    "%load_ext line_profiler\n",
    "directory = '../data/'\n",
    "file_paths = ['a_example.txt', 'b_read_on.txt', 'c_incunabula.txt','d_tough_choices.txt', 'e_so_many_books.txt', 'f_libraries_of_the_world.txt']"
   ]
  },
  {
   "cell_type": "markdown",
   "metadata": {},
   "source": [
    "### Classes"
   ]
  },
  {
   "cell_type": "code",
   "execution_count": 90,
   "metadata": {},
   "outputs": [],
   "source": [
    "def book_score(book):\n",
    "    return book.value"
   ]
  },
  {
   "cell_type": "code",
   "execution_count": 91,
   "metadata": {},
   "outputs": [],
   "source": [
    "class Book():\n",
    "    def __init__(self,index):\n",
    "        self.index = index;\n",
    "        self.value = 0\n",
    "        self.library_ids = set(); \n",
    "    \n",
    "    def __str__(self):\n",
    "        return str(self.__class__) + \": \" + str(self.__dict__)"
   ]
  },
  {
   "cell_type": "code",
   "execution_count": 92,
   "metadata": {},
   "outputs": [],
   "source": [
    "class Library():\n",
    "    def __init__(self,index,N,T,M):\n",
    "        self.id = index\n",
    "        self.size  = N\n",
    "        self.signup_time = T\n",
    "        self.books_per_day = M\n",
    "        self.books = SortedList([],key=book_score)\n",
    "        \n",
    "    def add_book(self,book):\n",
    "        self.books.add(book)\n",
    "        \n",
    "    def remove_book(self,book):\n",
    "        self.books.remove(book)\n",
    "        \n",
    "    \n",
    "    def __str__(self):\n",
    "        return str(self.__class__) + \": \" + str(self.__dict__)"
   ]
  },
  {
   "cell_type": "code",
   "execution_count": 93,
   "metadata": {},
   "outputs": [],
   "source": [
    "class Instance():\n",
    "    def __init__(self,B,L,D, libraries, books):\n",
    "        self.B = B\n",
    "        self.L = L\n",
    "        self.D = D\n",
    "        self.libraries = libraries\n",
    "        self.books = books"
   ]
  },
  {
   "cell_type": "markdown",
   "metadata": {},
   "source": [
    "### Utils"
   ]
  },
  {
   "cell_type": "code",
   "execution_count": 94,
   "metadata": {},
   "outputs": [],
   "source": [
    "def process_file(filePath):\n",
    "    with open(directory+filePath,'r') as file:\n",
    "        content = file.read().split('\\n')[:-1];\n",
    "        B,L,D = content[0].split()\n",
    "        B,L,D = int(B),int(L),int(D)\n",
    "    books = [Book(i) for i in range(B)]\n",
    "    bookValues = [int(n) for n in content[1].split()]\n",
    "    for i in range(B):\n",
    "        books[i].value = bookValues[i]\n",
    "    libraries = []\n",
    "    for i in range(L):\n",
    "        N,T,M = content[2+2*i].split()\n",
    "        N,T,M=int(N),int(T),int(M)\n",
    "        book_ids = [int(id) for id in content[2+2*i+1].split()]\n",
    "        library = Library(i,N,T,M)\n",
    "        for book_id in book_ids:\n",
    "            books[book_id].library_ids.add(i)\n",
    "            library.add_book(books[book_id])\n",
    "        libraries.append(library)\n",
    "    return Instance(B,L,D, libraries, books)"
   ]
  },
  {
   "cell_type": "code",
   "execution_count": 95,
   "metadata": {},
   "outputs": [],
   "source": [
    "def check_solution(D, libraries):\n",
    "    days = 0\n",
    "    prev_books = set()\n",
    "    for library in libraries:\n",
    "        days+=library.signup_time\n",
    "        if len(library.books) > (D-days)*library.books_per_day:\n",
    "            print(\"what\", len(library.books), (D-days)*library.books_per_day)\n",
    "        assert(not any([(book.index in prev_books) for book in library.books]))\n",
    "        prev_books.update([book.index for book in library.books])\n",
    "    assert(days < D)\n",
    "    \n",
    "def score_solution(libraries):\n",
    "    score=0\n",
    "    for library in libraries:\n",
    "        for book in library.books:\n",
    "            score+= book.value\n",
    "    return score"
   ]
  },
  {
   "cell_type": "code",
   "execution_count": 96,
   "metadata": {},
   "outputs": [],
   "source": [
    "def simpleGreedy(instance, book_score, library_score, update = True):\n",
    "    remaining_libraries = set(instance.libraries)\n",
    "    day = 0\n",
    "    chosen_libraries = []\n",
    "    it=0\n",
    "    while len(remaining_libraries) > 0:\n",
    "#         print(len(remaining_libraries), day)\n",
    "        if it%30 == 0:\n",
    "            library_scores = [(library_score(instance, lib,day, book_score), lib) for lib in remaining_libraries]\n",
    "        max_el = max(library_scores, key = lambda x:x[0])\n",
    "        library_scores.remove(max_el)\n",
    "        score, library = max_el\n",
    "        day+=library.signup_time\n",
    "        if day >= instance.D:\n",
    "            break\n",
    "        books_to_take = (instance.D - day)*library.books_per_day\n",
    "        sorted_books = list(library.books.__reversed__())\n",
    "        for book in sorted_books[:books_to_take]:\n",
    "            for lib_id in book.library_ids:\n",
    "                if lib_id != library.id:\n",
    "                    instance.libraries[lib_id].remove_book(book)\n",
    "                    \n",
    "        if update:\n",
    "            for book in sorted_books[books_to_take:]:\n",
    "                book.library_ids.remove(library.id)\n",
    "                \n",
    "        remaining_libraries.remove(library)\n",
    "        library.books = sorted_books[:books_to_take]\n",
    "        chosen_libraries.append(library)\n",
    "        it+=1\n",
    "    return chosen_libraries\n",
    "        "
   ]
  },
  {
   "cell_type": "code",
   "execution_count": 98,
   "metadata": {},
   "outputs": [
    {
     "name": "stdout",
     "output_type": "stream",
     "text": [
      "c_incunabula.txt\n",
      "CPU times: user 4.7 s, sys: 0 ns, total: 4.7 s\n",
      "Wall time: 4.7 s\n",
      "5687459\n",
      "5687459\n"
     ]
    }
   ],
   "source": [
    "def library_score(instance, lib, day, book_score):\n",
    "    delta_time = instance.D - lib.signup_time\n",
    "    n_best_books = list(lib.books.__reversed__())[:delta_time*lib.books_per_day]#sorted(lib.books, key=book_score, reverse=True)[:delta_time*lib.books_per_day]\n",
    "    sum_of_best_book_scores = sum(book.value for book in n_best_books)\n",
    "    return sum_of_best_book_scores/lib.signup_time\n",
    "\n",
    "sum_score = 0\n",
    "for file_path in file_paths[2:3]:\n",
    "    print(file_path)\n",
    "    instance = process_file(file_path)\n",
    "    #%time solution = simpleGreedy(instance, book_score, library_score)\n",
    "    %time solution = simpleGreedy(instance, book_score, library_score)\n",
    "    check_solution(instance.D,solution)\n",
    "    score = score_solution(solution)\n",
    "    print(score)\n",
    "    sum_score += score\n",
    "print(sum_score)"
   ]
  },
  {
   "cell_type": "code",
   "execution_count": null,
   "metadata": {},
   "outputs": [],
   "source": [
    "class ProblemSolver:\n",
    "    def __init__(self, B, L, D, books, libraries):\n",
    "        self.B, self.L, self.D = B,L,D\n",
    "        self.books = books\n",
    "        self.libraries = libraries\n",
    "        \n",
    "    def get_solution(self,selected_lib_ids=None):\n",
    "        if not selected_lib_ids:\n",
    "            selected_lib_ids = self.get_individual()\n",
    "        local_book_values = copy.copy(self.book_values)\n",
    "        day = 0\n",
    "        selected_libraries = [copy.copy(self.libraries[i]) for i in selected_lib_ids]\n",
    "        it=0;\n",
    "        while it < len(selected_libraries):\n",
    "            next_library = selected_libraries[it]\n",
    "            day+=next_library.signup_time\n",
    "            if day>=self.D:\n",
    "                break\n",
    "            next_library.book_ids = next_library.get_n_best_books((self.D-day)*next_library.books_per_day, local_book_values)\n",
    "            for book_id in next_library.book_ids:\n",
    "                local_book_values[book_id] = 0\n",
    "            it+=1\n",
    "        return selected_libraries[:it]\n",
    "    \n",
    "    def get_individual(self):\n",
    "        pass"
   ]
  },
  {
   "cell_type": "code",
   "execution_count": 6,
   "metadata": {},
   "outputs": [],
   "source": [
    "class HeurysticSolver(ProblemSolver):\n",
    "    def library_score(self,lib_id):\n",
    "        lib = self.libraries[lib_id]\n",
    "        delta_time = self.D - lib.signup_time\n",
    "        n_best_books = lib.get_n_best_books(delta_time*lib.signup_time, self.book_values)\n",
    "        sum_of_best_book_scores = sum([self.book_values[book] for book in n_best_books])\n",
    "        return sum_of_best_book_scores/lib.signup_time\n",
    "    \n",
    "    def get_individual(self):\n",
    "        lib_ids = [i for i in range(len(self.libraries))]\n",
    "        lib_ids.sort(key = self.library_score, reverse= True)\n",
    "        day = 0\n",
    "        for i in range(len(lib_ids)):\n",
    "            day+=self.libraries[lib_ids[i]].signup_time\n",
    "            if day >= self.D:\n",
    "                return tuple(lib_ids[:i])\n",
    "        return tuple(lib_ids)"
   ]
  },
  {
   "cell_type": "code",
   "execution_count": 7,
   "metadata": {},
   "outputs": [],
   "source": [
    "class PowerSolver(HeurysticSolver):\n",
    "    def library_score(self,lib_id):\n",
    "        lib = self.libraries[lib_id]\n",
    "        delta_time = self.D - lib.signup_time\n",
    "        n_best_books = lib.get_n_best_books(delta_time*lib.signup_time, self.book_values)\n",
    "        sum_of_best_book_scores = sum([self.book_values[book] for book in n_best_books])\n",
    "        return sum_of_best_book_scores/lib.signup_time**(1+lib.signup_time/self.D)"
   ]
  },
  {
   "cell_type": "code",
   "execution_count": 8,
   "metadata": {},
   "outputs": [],
   "source": [
    "class SimpleScoreVarianceSolver(HeurysticSolver):\n",
    "    def library_score(self,lib_id):\n",
    "        lib = self.libraries[lib_id]\n",
    "        delta_time = self.D - lib.signup_time\n",
    "        n_best_books = lib.get_n_best_books(delta_time*lib.signup_time, self.book_values)\n",
    "        best_scores = [self.book_values[book] for book in n_best_books]\n",
    "        sum_of_best_book_scores = sum(best_scores)\n",
    "        book_variance = max(0.001,np.var(best_scores))\n",
    "        return sum_of_best_book_scores/book_variance"
   ]
  },
  {
   "cell_type": "code",
   "execution_count": 9,
   "metadata": {},
   "outputs": [],
   "source": [
    "class SquareScoreVarianceSolver(HeurysticSolver):\n",
    "    def library_score(self,lib_id):\n",
    "        lib = self.libraries[lib_id]\n",
    "        delta_time = self.D - lib.signup_time\n",
    "        n_best_books = lib.get_n_best_books(delta_time*lib.signup_time, self.book_values)\n",
    "        best_scores = [self.book_values[book] for book in n_best_books]\n",
    "        sum_of_best_book_scores = sum(best_scores)\n",
    "        book_variance = max(0.001,np.var(best_scores))\n",
    "        return sum_of_best_book_scores**2/(lib.signup_time*lib.signup_time*math.sqrt(book_variance))"
   ]
  },
  {
   "cell_type": "code",
   "execution_count": 10,
   "metadata": {},
   "outputs": [],
   "source": [
    "class BookNumbersSolver(HeurysticSolver):\n",
    "    def library_score(self,lib_id):\n",
    "        lib = self.libraries[lib_id]\n",
    "        delta_time = self.D - lib.signup_time\n",
    "        n_best_books = lib.get_n_best_books(delta_time*lib.signup_time, self.book_values)\n",
    "        best_scores = [self.book_values[book] for book in n_best_books]\n",
    "        sum_of_best_book_scores = sum(best_scores)\n",
    "        book_variance = max(0.001,np.var(best_scores))\n",
    "        return sum_of_best_book_scores**2/(book_variance*len(n_best_books)*lib.signup_time)"
   ]
  },
  {
   "cell_type": "code",
   "execution_count": 11,
   "metadata": {},
   "outputs": [],
   "source": [
    "class ScoreSquareSolver(HeurysticSolver):\n",
    "    def library_score(self,lib_id):\n",
    "        lib = self.libraries[lib_id]\n",
    "        delta_time = self.D - lib.signup_time\n",
    "        n_best_books = lib.get_n_best_books(delta_time*lib.signup_time, self.book_values)\n",
    "        sum_of_best_book_scores = sum([self.book_values[book] for book in n_best_books])\n",
    "        return sum_of_best_book_scores**2/lib.signup_time"
   ]
  },
  {
   "cell_type": "code",
   "execution_count": 5,
   "metadata": {},
   "outputs": [
    {
     "ename": "SyntaxError",
     "evalue": "unexpected EOF while parsing (<ipython-input-5-60f0a754dac1>, line 1)",
     "output_type": "error",
     "traceback": [
      "\u001b[0;36m  File \u001b[0;32m\"<ipython-input-5-60f0a754dac1>\"\u001b[0;36m, line \u001b[0;32m1\u001b[0m\n\u001b[0;31m    class randomChangeSolver(ProblemSolver):\u001b[0m\n\u001b[0m                                            ^\u001b[0m\n\u001b[0;31mSyntaxError\u001b[0m\u001b[0;31m:\u001b[0m unexpected EOF while parsing\n"
     ]
    }
   ],
   "source": [
    "class randomChangeSolver(ProblemSolver):\n",
    "    def get_individual(self):\n",
    "        solvers_cls = [HeurysticSolver, PowerSolver, SimpleScoreVarianceSolver, SquareScoreVarianceSolver, BookNumbersSolver, ScoreSquareSolver]\n",
    "        solvers = [cl(B,L,D,book_values, libraries) for cl in solvers_cls]\n",
    "        population = [solver.get_individual() for solver in solvers]\n",
    "        for i n range(100):\n",
    "            minLength = min(len(pop) for pop in population)\n",
    "            step = rand.range(0,min(10,minLength))\n",
    "            \n",
    "        "
   ]
  },
  {
   "cell_type": "code",
   "execution_count": 12,
   "metadata": {},
   "outputs": [
    {
     "name": "stdout",
     "output_type": "stream",
     "text": [
      "[21, 21, 21, 21, 21, 21]\n",
      "21\n",
      "[5822900, 5822900, 4075800, 5822900, 5822900, 5822900]\n",
      "5822900\n",
      "[5645747, 5640815, 1167633, 5632921, 5307077, 5525478]\n",
      "5645747\n",
      "[4815395, 4815395, 4815395, 4815395, 4815395, 4815395]\n",
      "4815395\n",
      "[4613373, 4642132, 4056632, 4606497, 4514009, 2040620]\n",
      "4642132\n",
      "[5240161, 5238624, 1195114, 5211764, 4111186, 5083231]\n",
      "5240161\n",
      "SUM 26166356\n"
     ]
    }
   ],
   "source": [
    "sum_score = 0\n",
    "solvers_cls = [HeurysticSolver, PowerSolver, SimpleScoreVarianceSolver, SquareScoreVarianceSolver, BookNumbersSolver, ScoreSquareSolver]\n",
    "for file_path in file_paths:\n",
    "    (B,L,D),book_values, libraries = process_file(file_path)\n",
    "    solvers = [cl(B,L,D,book_values, libraries) for cl in solvers_cls]\n",
    "    solutions = [solver.get_solution() for solver in solvers]\n",
    "    [check_solution(D, solution) for solution in solutions]\n",
    "    scores = [score_solution(solution, book_values) for solution in solutions]\n",
    "    print(scores)\n",
    "    score = max(scores)\n",
    "    print(score)\n",
    "    sum_score+=score\n",
    "print(\"SUM\",sum_score)"
   ]
  },
  {
   "cell_type": "code",
   "execution_count": 13,
   "metadata": {},
   "outputs": [
    {
     "name": "stdout",
     "output_type": "stream",
     "text": [
      "21\n",
      "5822900\n",
      "5645747\n",
      "4815395\n",
      "4642132\n",
      "5240161\n",
      "26166356\n"
     ]
    }
   ],
   "source": [
    "sum_score = 0\n",
    "for file_path in file_paths:\n",
    "    (B,L,D),book_values, libraries = process_file(file_path)\n",
    "    solver = HeurysticSolver(B,L,D,book_values, libraries)\n",
    "    solution = solver.get_solution()\n",
    "    check_solution(D, solution)\n",
    "    power_solver = PowerSolver(B,L,D,book_values, libraries)\n",
    "    power_solution = power_solver.get_solution()\n",
    "    check_solution(D, power_solution)\n",
    "    score = max(score_solution(solution, book_values), score_solution(power_solution, book_values))\n",
    "    print(score)\n",
    "    sum_score +=score\n",
    "print(sum_score)"
   ]
  },
  {
   "cell_type": "code",
   "execution_count": 13,
   "metadata": {},
   "outputs": [
    {
     "name": "stdout",
     "output_type": "stream",
     "text": [
      "595 µs ± 2.19 µs per loop (mean ± std. dev. of 7 runs, 1000 loops each)\n",
      "616 µs ± 1.89 µs per loop (mean ± std. dev. of 7 runs, 1000 loops each)\n"
     ]
    }
   ],
   "source": [
    "books = []\n",
    "values = [i for i in range(10000)]\n",
    "iis = [i for i in range(10000)]\n",
    "for i in range(10000):\n",
    "    books.append(Book(i))\n",
    "    \n",
    "%timeit sum([book.value for book in books])\n",
    "%timeit sum([values[i] for  i in iis ])"
   ]
  },
  {
   "cell_type": "code",
   "execution_count": null,
   "metadata": {},
   "outputs": [],
   "source": []
  }
 ],
 "metadata": {
  "kernelspec": {
   "display_name": "Python 3",
   "language": "python",
   "name": "python3"
  },
  "language_info": {
   "codemirror_mode": {
    "name": "ipython",
    "version": 3
   },
   "file_extension": ".py",
   "mimetype": "text/x-python",
   "name": "python",
   "nbconvert_exporter": "python",
   "pygments_lexer": "ipython3",
   "version": "3.7.6"
  }
 },
 "nbformat": 4,
 "nbformat_minor": 4
}
