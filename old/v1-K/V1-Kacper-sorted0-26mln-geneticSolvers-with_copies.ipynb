{
 "cells": [
  {
   "cell_type": "code",
   "execution_count": 1,
   "metadata": {},
   "outputs": [],
   "source": [
    "import numpy as np, matplotlib, time, copy, random, math\n",
    "%load_ext line_profiler\n",
    "directory = '../data/'\n",
    "file_paths = ['a_example.txt', 'b_read_on.txt', 'c_incunabula.txt','d_tough_choices.txt', 'e_so_many_books.txt', 'f_libraries_of_the_world.txt']"
   ]
  },
  {
   "cell_type": "markdown",
   "metadata": {},
   "source": [
    "### Utils"
   ]
  },
  {
   "cell_type": "code",
   "execution_count": 2,
   "metadata": {},
   "outputs": [],
   "source": [
    "ALPHA = 1"
   ]
  },
  {
   "cell_type": "code",
   "execution_count": 3,
   "metadata": {},
   "outputs": [],
   "source": [
    "def process_file(filePath):\n",
    "    with open(directory+filePath,'r') as file:\n",
    "        content = file.read().split('\\n')[:-1];\n",
    "        B,L,D = content[0].split()\n",
    "        B,L,D = int(B),int(L),int(D)\n",
    "    bookValues = [int(n) for n in content[1].split()]#tuple([int(n) for n in content[1].split()])\n",
    "    bookCounts = [0]*B\n",
    "    libraries = []\n",
    "    def book_sort(book):\n",
    "        return bookValues[book]\n",
    "    for i in range(L):\n",
    "        N,T,M = content[2+2*i].split()\n",
    "        N,T,M=int(N),int(T),int(M)\n",
    "        book_ids = set([int(id) for id in content[2+2*i+1].split()])\n",
    "        for book_id in book_ids:\n",
    "            bookCounts[book_id] +=1\n",
    "        libraries.append(Library(i,N,T,M,book_ids))\n",
    "    return ((B,L,D), bookValues,bookCounts, libraries)"
   ]
  },
  {
   "cell_type": "code",
   "execution_count": 4,
   "metadata": {},
   "outputs": [],
   "source": [
    "def check_solution(D, libraries):\n",
    "    days = 0\n",
    "    prev_books = set()\n",
    "    for library in libraries:\n",
    "        days+=library.signup_time\n",
    "        if len(library.book_ids) > (D-days)*library.books_per_day:\n",
    "            print(\"what\", len(library.book_ids), (D-days)*library.books_per_day)\n",
    "        assert(len(library.book_ids) == len(set(library.book_ids)))\n",
    "        assert(not any([(book in prev_books) for book in library.book_ids]))\n",
    "        prev_books.update(library.book_ids)\n",
    "    assert(days < D)\n",
    "    \n",
    "def score_solution(libraries, book_values):\n",
    "    score=0\n",
    "    for library in libraries:\n",
    "        for book_id in library.book_ids:\n",
    "            score+= book_values[book_id]\n",
    "    return score"
   ]
  },
  {
   "cell_type": "markdown",
   "metadata": {},
   "source": [
    "### Classes"
   ]
  },
  {
   "cell_type": "code",
   "execution_count": 5,
   "metadata": {},
   "outputs": [],
   "source": [
    "class Library():\n",
    "    def __init__(self,index,N,T,M, book_ids: set):\n",
    "        self.id = index\n",
    "        self.size  = N\n",
    "        self.signup_time = T\n",
    "        self.books_per_day = M\n",
    "        self.book_ids = book_ids\n",
    "    \n",
    "    def __str__(self):\n",
    "        return str(self.__class__) + \": \" + str(self.__dict__)"
   ]
  },
  {
   "cell_type": "code",
   "execution_count": 27,
   "metadata": {},
   "outputs": [],
   "source": [
    "class ProblemSolver:\n",
    "    def __init__(self, B, L, D, book_values, book_counts, libraries):\n",
    "        self.B, self.L, self.D = B,L,D\n",
    "        self.book_values = book_values\n",
    "        self.libraries = libraries\n",
    "        self.book_counts = book_counts\n",
    "        \n",
    "    def book_score(self, book):\n",
    "        return self.book_values[book]\n",
    "    \n",
    "    def get_n_best_books(self,lib, n):\n",
    "        return sorted(lib.book_ids,key=self.book_score, reverse=True)[:n]\n",
    "        \n",
    "    def get_solution(self,selected_lib_ids=None):\n",
    "        if not selected_lib_ids:\n",
    "            selected_lib_ids = self.get_individual()\n",
    "        local_book_values = copy.copy(self.book_values)\n",
    "        day = 0\n",
    "        selected_libraries = [copy.copy(self.libraries[i]) for i in selected_lib_ids]\n",
    "        it=0;\n",
    "        already_scanned_books = set()\n",
    "        while it < len(selected_libraries):\n",
    "            next_library = selected_libraries[it]\n",
    "            day+=next_library.signup_time\n",
    "            if day>=self.D:\n",
    "                break\n",
    "            next_library.book_ids = next_library.book_ids - already_scanned_books\n",
    "            next_library.book_ids = sorted(next_library.book_ids,key=self.book_score, reverse=True)[:(self.D-day)*next_library.books_per_day]\n",
    "            already_scanned_books.update(next_library.book_ids)\n",
    "            it+=1\n",
    "        return selected_libraries[:it]\n",
    "    \n",
    "    def get_individual(self):\n",
    "        pass"
   ]
  },
  {
   "cell_type": "code",
   "execution_count": 28,
   "metadata": {},
   "outputs": [],
   "source": [
    "class HeurysticSolver(ProblemSolver):\n",
    "    def library_score(self,lib_id):\n",
    "        lib = self.libraries[lib_id]\n",
    "        delta_time = self.D - lib.signup_time\n",
    "        n_best_books = self.get_n_best_books(lib, delta_time*lib.books_per_day)\n",
    "        sum_of_best_book_scores = sum([self.book_values[book] for book in n_best_books])\n",
    "        return sum_of_best_book_scores/lib.signup_time\n",
    "    \n",
    "    def get_individual(self):\n",
    "        lib_ids = [i for i in range(len(self.libraries))]\n",
    "        lib_ids.sort(key = self.library_score, reverse= True)\n",
    "        day = 0\n",
    "        chosen = []\n",
    "        for i in range(len(lib_ids)):\n",
    "            if day + self.libraries[lib_ids[i]].signup_time >= self.D:\n",
    "                continue  \n",
    "            day+=self.libraries[lib_ids[i]].signup_time\n",
    "            chosen.append(lib_ids[i])\n",
    "        return tuple(chosen)"
   ]
  },
  {
   "cell_type": "code",
   "execution_count": 29,
   "metadata": {},
   "outputs": [],
   "source": [
    "class PowerSolver(HeurysticSolver):\n",
    "    def library_score(self,lib_id):\n",
    "        lib = self.libraries[lib_id]\n",
    "        delta_time = self.D - lib.signup_time\n",
    "        n_best_books = self.get_n_best_books(lib, delta_time*lib.books_per_day)\n",
    "        sum_of_best_book_scores = sum([self.book_values[book] for book in n_best_books])\n",
    "        return sum_of_best_book_scores/lib.signup_time**(1+lib.signup_time/self.D)"
   ]
  },
  {
   "cell_type": "code",
   "execution_count": 30,
   "metadata": {},
   "outputs": [],
   "source": [
    "class SimpleScoreVarianceSolver(HeurysticSolver):\n",
    "    def library_score(self,lib_id):\n",
    "        lib = self.libraries[lib_id]\n",
    "        delta_time = self.D - lib.signup_time\n",
    "        n_best_books = self.get_n_best_books(lib, delta_time*lib.books_per_day)\n",
    "        best_scores = [self.book_values[book] for book in n_best_books]\n",
    "        sum_of_best_book_scores = sum(best_scores)\n",
    "        book_variance = max(0.001,np.var(best_scores))\n",
    "        return sum_of_best_book_scores/book_variance"
   ]
  },
  {
   "cell_type": "code",
   "execution_count": 31,
   "metadata": {},
   "outputs": [],
   "source": [
    "class SquareScoreVarianceSolver(HeurysticSolver):\n",
    "    def library_score(self,lib_id):\n",
    "        lib = self.libraries[lib_id]\n",
    "        delta_time = self.D - lib.signup_time\n",
    "        n_best_books = self.get_n_best_books(lib, delta_time*lib.books_per_day)\n",
    "        best_scores = [self.book_values[book] for book in n_best_books]\n",
    "        sum_of_best_book_scores = sum(best_scores)\n",
    "        book_variance = max(0.001,np.var(best_scores))\n",
    "        return sum_of_best_book_scores**2/(lib.signup_time*lib.signup_time*math.sqrt(book_variance))"
   ]
  },
  {
   "cell_type": "code",
   "execution_count": 32,
   "metadata": {},
   "outputs": [],
   "source": [
    "class BookNumbersSolver(HeurysticSolver):\n",
    "    def library_score(self,lib_id):\n",
    "        lib = self.libraries[lib_id]\n",
    "        delta_time = self.D - lib.signup_time\n",
    "        n_best_books = self.get_n_best_books(lib, delta_time*lib.books_per_day)\n",
    "        best_scores = [self.book_values[book] for book in n_best_books]\n",
    "        sum_of_best_book_scores = sum(best_scores)\n",
    "        book_variance = max(0.001,np.var(best_scores))\n",
    "        return sum_of_best_book_scores**2/(book_variance*len(n_best_books)*lib.signup_time)"
   ]
  },
  {
   "cell_type": "code",
   "execution_count": 33,
   "metadata": {},
   "outputs": [],
   "source": [
    "class ScoreSquareSolver(HeurysticSolver):\n",
    "    def library_score(self,lib_id):\n",
    "        lib = self.libraries[lib_id]\n",
    "        delta_time = self.D - lib.signup_time\n",
    "        n_best_books = self.get_n_best_books(lib, delta_time*lib.books_per_day)\n",
    "        sum_of_best_book_scores = sum([self.book_values[book] for book in n_best_books])\n",
    "        return sum_of_best_book_scores**2/lib.signup_time"
   ]
  },
  {
   "cell_type": "code",
   "execution_count": 34,
   "metadata": {},
   "outputs": [],
   "source": [
    "class BookCountSolver(HeurysticSolver):\n",
    "    def book_score(self, book):\n",
    "        return self.book_values[book] - 0.7*self.book_counts[book]"
   ]
  },
  {
   "cell_type": "code",
   "execution_count": 35,
   "metadata": {},
   "outputs": [],
   "source": [
    "class BookCountPowerSolver(PowerSolver):\n",
    "    def book_score(self, book):\n",
    "        return self.book_values[book] - 0.7*self.book_counts[book]"
   ]
  },
  {
   "cell_type": "code",
   "execution_count": 36,
   "metadata": {},
   "outputs": [
    {
     "name": "stdout",
     "output_type": "stream",
     "text": [
      "CPU times: user 0 ns, sys: 2.7 ms, total: 2.7 ms\n",
      "Wall time: 2.36 ms\n",
      "[21, 21, 21, 21, 21, 21, 21, 21]\n",
      "21\n",
      "CPU times: user 433 ms, sys: 0 ns, total: 433 ms\n",
      "Wall time: 425 ms\n",
      "[5822900, 5822900, 5822900, 5822900, 5822900, 5822900, 5822900, 5822900]\n",
      "5822900\n",
      "CPU times: user 1.95 s, sys: 6 ms, total: 1.96 s\n",
      "Wall time: 1.96 s\n",
      "[5645747, 5644690, 1191778, 5632921, 5309433, 5530843, 5645747, 5644690]\n",
      "5645747\n",
      "CPU times: user 5.79 s, sys: 93.2 ms, total: 5.88 s\n",
      "Wall time: 5.75 s\n",
      "[4815395, 4815395, 4815395, 4815395, 4815395, 4815395, 4815395, 4815395]\n",
      "4815395\n",
      "CPU times: user 1.88 s, sys: 2.18 ms, total: 1.89 s\n",
      "Wall time: 1.88 s\n",
      "[5020495, 5023616, 774717, 4791445, 2797585, 4741433, 5021339, 5024351]\n",
      "5024351\n",
      "CPU times: user 2.11 s, sys: 2.76 ms, total: 2.11 s\n",
      "Wall time: 2.11 s\n",
      "[5240161, 5238624, 1326571, 5211764, 4111186, 5083231, 5240157, 5238622]\n",
      "5240161\n",
      "SUM 26548575\n"
     ]
    }
   ],
   "source": [
    "sum_score = 0\n",
    "solvers_cls = [HeurysticSolver, PowerSolver, SimpleScoreVarianceSolver, SquareScoreVarianceSolver, BookNumbersSolver, ScoreSquareSolver, BookCountSolver, BookCountPowerSolver]\n",
    "for file_path in file_paths:\n",
    "    (B,L,D),book_values,book_counts, libraries = process_file(file_path)\n",
    "    solvers = [cl(B,L,D,book_values,book_counts, libraries) for cl in solvers_cls]\n",
    "    %time solutions = [solver.get_solution() for solver in solvers]\n",
    "#     print(list(lib.id for lib in solutions[0]))\n",
    "    [check_solution(D, solution) for solution in solutions]\n",
    "    scores = [score_solution(solution, book_values) for solution in solutions]\n",
    "    print(scores)\n",
    "    score = max(scores)\n",
    "    print(score)\n",
    "    sum_score+=score\n",
    "print(\"SUM\",sum_score)"
   ]
  },
  {
   "cell_type": "code",
   "execution_count": 37,
   "metadata": {},
   "outputs": [],
   "source": [
    "class RandomSolver(ProblemSolver):\n",
    "    def get_individual(self):\n",
    "        lib_ids = [i for i in range(len(self.libraries))]\n",
    "        random.shuffle(lib_ids)\n",
    "        day = 0\n",
    "        for i in range(len(lib_ids)):\n",
    "            day += self.libraries[lib_ids[i]].signup_time\n",
    "            if day >= self.D:\n",
    "                return tuple(lib_ids[:i])\n",
    "        return tuple(lib_ids)"
   ]
  },
  {
   "cell_type": "code",
   "execution_count": 38,
   "metadata": {},
   "outputs": [],
   "source": [
    "class GeneticSolver(ProblemSolver):\n",
    "    def __init__(self, B, L, D, book_values,book_counts, libraries, pop_size = 20, p_mutate = 0.5, surv_rate = 0.2, tournament_size = 3):\n",
    "        super().__init__(B, L, D, book_values,book_counts, libraries)\n",
    "        \n",
    "        #min of popsize and all possible permutations\n",
    "        num = 1\n",
    "        mult = len(libraries)\n",
    "        while num < pop_size and mult != 1:\n",
    "            num*=mult\n",
    "            mult-=1\n",
    "        self.pop_size = min(pop_size,num)\n",
    "        self.p_mutate = p_mutate\n",
    "        self.tournament_size = min(self.pop_size,tournament_size)\n",
    "        self.surv_rate = surv_rate\n",
    "        \n",
    "        self.indiv_scores = dict()\n",
    "        self.lib_ids = [i for i in range(len(libraries))]\n",
    "        self.lib_scores = [self.lib_score(lib) for lib in self.libraries]\n",
    "        \n",
    "    def lib_score(self, lib):\n",
    "        delta_time = self.D - lib.signup_time\n",
    "        n_best_books = self.get_n_best_books(lib, delta_time*lib.books_per_day)\n",
    "        sum_of_best_book_scores = sum([self.book_values[book] for book in n_best_books])\n",
    "        return sum_of_best_book_scores / lib.signup_time\n",
    "        \n",
    "        \n",
    "    def mutate(self, individual):\n",
    "        new_one = list(individual)\n",
    "        if random.random() <=0.5:\n",
    "            #internal mutation\n",
    "            length = len(new_one)\n",
    "            for i in range(4):\n",
    "                a,b = random.sample(range(length), 2)\n",
    "                new_one[a],new_one[b] =new_one[b],new_one[a]\n",
    "            return tuple(individual)                  \n",
    "        else:\n",
    "            #exxternal mutation\n",
    "            additional = random.choices(self.lib_ids, k=4, weights = self.lib_scores)\n",
    "            unique = set(additional)\n",
    "            for un in unique:\n",
    "                new_one.insert(random.randrange(0,len(new_one)), un)\n",
    "            return self.cut(new_one)\n",
    "            \n",
    "    def cut(self, new_one):\n",
    "        day =0;\n",
    "        for i in range(len(new_one)):\n",
    "            day+=self.libraries[new_one[i]].signup_time\n",
    "            if day >= self.D:\n",
    "                return tuple(new_one[:i])\n",
    "        return tuple(new_one)\n",
    "    \n",
    "    def crossover(self,indiv_1, indiv_2):\n",
    "        set1 = set(indiv_1)\n",
    "        set2 = set(indiv_2)\n",
    "        common = set1.intersection(set2)\n",
    "        maxLen = max(len(indiv_1), len(indiv_2))\n",
    "        child1,child2,=[-1]*maxLen,[-1]*maxLen\n",
    "        only1,only2 = [],[]\n",
    "        for i in range(len(indiv_1)):\n",
    "            if indiv_1[i] in common:\n",
    "                child1[i] =  indiv_1[i]\n",
    "            else:\n",
    "                only1.append(indiv_1[i])\n",
    "        for i in range(len(indiv_2)):\n",
    "            if indiv_2[i] in common:\n",
    "                child2[i] = indiv_2[i]\n",
    "            else:\n",
    "                only2.append(indiv_2[i])\n",
    "        for i in range(maxLen):\n",
    "            if child1[i] == -1 and len(only2) > 0:\n",
    "                child1[i] = only2.pop(0)\n",
    "            if child2[i] == -1 and len(only1) > 0:\n",
    "                child2[i] = only1.pop(0)\n",
    "        child1 = [i for i in child1 if i !=-1]\n",
    "        child2 = [i for i in child2 if i !=-1]\n",
    "                        \n",
    "        child1 = self.cut(child1)\n",
    "        child2 = self.cut(child2)\n",
    "        if random.random()<=self.p_mutate:\n",
    "            child1 = self.mutate(child1)\n",
    "        if random.random()<=self.p_mutate:\n",
    "            child2 = self.mutate(child2)\n",
    "        return child1, child2\n",
    "    \n",
    "    def tournament(self, indivs):\n",
    "        return max(indivs, key = self.indiv_scores.get);\n",
    "    \n",
    "    def select_survivals(self, population):\n",
    "        k = int(5*self.pop_size*self.surv_rate)\n",
    "        weights = [self.indiv_scores[indiv] for indiv in population]\n",
    "        chosen = []\n",
    "        already_chosen = set()\n",
    "        desired = int(self.pop_size*self.surv_rate)\n",
    "        while len(already_chosen) < desired:\n",
    "            candidates = random.choices(population, k = k, weights = weights)\n",
    "            for cand in candidates:\n",
    "                if cand not in already_chosen:\n",
    "                    chosen.append(cand)\n",
    "                    already_chosen.add(cand)\n",
    "        return chosen\n",
    "    \n",
    "    def get_individual(self):\n",
    "        solvers_cls = [HeurysticSolver, PowerSolver, SimpleScoreVarianceSolver, SquareScoreVarianceSolver, BookNumbersSolver, ScoreSquareSolver, BookCountSolver, BookCountPowerSolver]\n",
    "        solvers = [cl(B,L,D,book_values,book_counts, libraries) for cl in solvers_cls]\n",
    "        population = [solver.get_individual() for solver in solvers]\n",
    "        randomSolver = RandomSolver(B,L,D,book_values,book_counts, libraries)\n",
    "        while len(population) < self.pop_size:\n",
    "            population.append(randomSolver.get_individual())\n",
    "        for indiv in population:\n",
    "            sol = self.get_solution(indiv)\n",
    "            self.indiv_scores[indiv] = score_solution(sol, self.book_values)\n",
    "            \n",
    "        startTime = time.time()\n",
    "        while(True):\n",
    "            if(time.time() - startTime > 270):\n",
    "                break\n",
    "            new_population = [ self.tournament(random.sample(population, self.tournament_size)) for i in range(int(self.pop_size*self.surv_rate))]\n",
    "            while len(new_population) < self.pop_size:\n",
    "                indiv_1 = self.tournament(random.sample(population, self.tournament_size))\n",
    "                indiv_2 = self.tournament(random.sample(population, self.tournament_size))\n",
    "                if random.random()<= 0.5:\n",
    "                    new_child1 = self.mutate(indiv_1)\n",
    "                    new_child2 = self.mutate(indiv_2)\n",
    "                else:\n",
    "                    new_child1, new_child2 = self.crossover(indiv_1, indiv_2)\n",
    "                if new_child1 not in self.indiv_scores:\n",
    "                    self.indiv_scores[new_child1] = score_solution(self.get_solution(new_child1), book_values)\n",
    "                if new_child2 not in self.indiv_scores:\n",
    "                    self.indiv_scores[new_child2] = score_solution(self.get_solution(new_child2), book_values)\n",
    "                new_population.append(new_child1)\n",
    "                new_population.append(new_child2)\n",
    "            population = tuple(new_population)\n",
    "        return max(self.indiv_scores, key = self.indiv_scores.get)\n",
    "              "
   ]
  },
  {
   "cell_type": "code",
   "execution_count": 39,
   "metadata": {},
   "outputs": [
    {
     "name": "stdout",
     "output_type": "stream",
     "text": [
      "S:  21\n",
      "S:  5912800\n",
      "S:  5645747\n",
      "S:  4816825\n",
      "S:  5060209\n",
      "S:  5317660\n",
      "26753262\n"
     ]
    }
   ],
   "source": [
    "sum_score =0\n",
    "for file_path in file_paths:\n",
    "    (B, L, D), book_values,book_counts, libraries = process_file(file_path)\n",
    "    solver = GeneticSolver(B, L, D, book_values, book_counts, libraries, 20)\n",
    "    solution = solver.get_solution()\n",
    "    check_solution(D, solution)\n",
    "    score = score_solution(solution, book_values)\n",
    "    print(\"S: \",score)\n",
    "    sum_score += score\n",
    "\n",
    "print(sum_score)"
   ]
  },
  {
   "cell_type": "code",
   "execution_count": 41,
   "metadata": {},
   "outputs": [
    {
     "name": "stdout",
     "output_type": "stream",
     "text": [
      "21\n",
      "10000000\n",
      "30076415\n",
      "5109000\n",
      "12548648\n",
      "40111142\n"
     ]
    }
   ],
   "source": [
    "sum_score =0\n",
    "for file_path in file_paths:\n",
    "    (B, L, D), book_values,book_counts, libraries = process_file(file_path)\n",
    "    print(sum(book_values))"
   ]
  },
  {
   "cell_type": "code",
   "execution_count": null,
   "metadata": {},
   "outputs": [],
   "source": []
  }
 ],
 "metadata": {
  "kernelspec": {
   "display_name": "Python 3",
   "language": "python",
   "name": "python3"
  },
  "language_info": {
   "codemirror_mode": {
    "name": "ipython",
    "version": 3
   },
   "file_extension": ".py",
   "mimetype": "text/x-python",
   "name": "python",
   "nbconvert_exporter": "python",
   "pygments_lexer": "ipython3",
   "version": "3.7.6"
  }
 },
 "nbformat": 4,
 "nbformat_minor": 4
}
