{
 "cells": [
  {
   "cell_type": "code",
   "execution_count": 1,
   "metadata": {},
   "outputs": [],
   "source": [
    "import numpy as np, matplotlib, time, copy, random, math\n",
    "from sortedcontainers import SortedSet, SortedList\n",
    "%load_ext line_profiler\n",
    "directory = '../data/'\n",
    "file_paths = ['a_example.txt', 'b_read_on.txt', 'c_incunabula.txt','d_tough_choices.txt', 'e_so_many_books.txt', 'f_libraries_of_the_world.txt']"
   ]
  },
  {
   "cell_type": "markdown",
   "metadata": {},
   "source": [
    "### Classes"
   ]
  },
  {
   "cell_type": "code",
   "execution_count": 2,
   "metadata": {},
   "outputs": [],
   "source": [
    "class Library():\n",
    "    def __init__(self,index,N,T,M):\n",
    "        self.id = index\n",
    "        self.size  = N\n",
    "        self.signup_time = T\n",
    "        self.books_per_day = M\n",
    "        self.book_ids = set()\n",
    "        \n",
    "    def add_book(self,book):\n",
    "        self.book_ids.add(book)\n",
    "        \n",
    "    def remove_book(self,book):\n",
    "        self.book_ids.remove(book)\n",
    "        \n",
    "    \n",
    "    def __str__(self):\n",
    "        return str(self.__class__) + \": \" + str(self.__dict__)"
   ]
  },
  {
   "cell_type": "markdown",
   "metadata": {},
   "source": [
    "### Utils"
   ]
  },
  {
   "cell_type": "code",
   "execution_count": 3,
   "metadata": {},
   "outputs": [],
   "source": [
    "def process_file(filePath):\n",
    "    with open(directory+filePath,'r') as file:\n",
    "        content = file.read().split('\\n')[:-1];\n",
    "        B,L,D = content[0].split()\n",
    "        B,L,D = int(B),int(L),int(D)\n",
    "    book_libraries = [set() for i in range(B)]\n",
    "    bookValues = [int(n) for n in content[1].split()]\n",
    "    libraries = []\n",
    "    for i in range(L):\n",
    "        N,T,M = content[2+2*i].split()\n",
    "        N,T,M=int(N),int(T),int(M)\n",
    "        book_ids = [int(id) for id in content[2+2*i+1].split()]\n",
    "        library = Library(i,N,T,M)\n",
    "        for book_id in book_ids:\n",
    "            book_libraries[book_id].add(i)\n",
    "            library.add_book(book_id)\n",
    "        libraries.append(library)\n",
    "    return ((B,L,D), bookValues,book_libraries, libraries)"
   ]
  },
  {
   "cell_type": "code",
   "execution_count": 4,
   "metadata": {},
   "outputs": [],
   "source": [
    "def check_solution(D, libraries):\n",
    "    days = 0\n",
    "    prev_books = set()\n",
    "    for library in libraries:\n",
    "        days+=library.signup_time\n",
    "        if len(library.book_ids) > (D-days)*library.books_per_day:\n",
    "            print(\"what\", len(library.book_ids), (D-days)*library.books_per_day)\n",
    "        assert(len(library.book_ids) == len(set(library.book_ids)))\n",
    "        assert(not any([(book in prev_books) for book in library.book_ids]))\n",
    "        prev_books.update(library.book_ids)\n",
    "    assert(days < D)\n",
    "    \n",
    "def score_solution(libraries, book_values):\n",
    "    score=0\n",
    "    for library in libraries:\n",
    "        for book_id in library.book_ids:\n",
    "            score+= book_values[book_id]\n",
    "    return score"
   ]
  },
  {
   "cell_type": "code",
   "execution_count": 12,
   "metadata": {},
   "outputs": [],
   "source": [
    "DIVIDOR = 100\n",
    "class GreedyIntervalSolver:\n",
    "    def __init__(self, B, L, D, book_values, book_libraries, libraries):\n",
    "        self.B, self.L, self.D = B,L,D\n",
    "        self.book_values = book_values\n",
    "        self.libraries = libraries\n",
    "        self.book_libraries = copy.copy(book_libraries)\n",
    "        \n",
    "    def book_score(self, book_id):\n",
    "        return book_values[book_id] #- 0.7*len(self.book_libraries[book_id])\n",
    "    \n",
    "    def get_n_best_books(self,lib, n):\n",
    "        return sorted(lib.book_ids,key=self.book_score, reverse=True)[:n]\n",
    "    \n",
    "    def library_score(self,lib_id):\n",
    "        lib = self.libraries[lib_id]\n",
    "        delta_time = self.D - lib.signup_time\n",
    "        n_best_books = self.get_n_best_books(lib, delta_time*lib.books_per_day)\n",
    "        sum_of_best_book_scores = sum([self.book_values[book] for book in n_best_books])\n",
    "        return sum_of_best_book_scores/lib.signup_time**0.95#**(1+lib.signup_time/self.D)\n",
    "    \n",
    "    def get_solution(self):\n",
    "        libraries = [copy.copy(library) for library in self.libraries]\n",
    "        remaining_libraries = set(lib.id for lib in libraries)\n",
    "        day = 0\n",
    "        chosen_libraries = []\n",
    "        it=0\n",
    "        stop_calc_score=False\n",
    "        while len(remaining_libraries) > 0:\n",
    "            if (not stop_calc_score) and (it%DIVIDOR == 0):\n",
    "                library_scores = [((lib.signup_time, self.library_score(lib_id)),lib_id) for lib_id in remaining_libraries]\n",
    "            it+=1\n",
    "            max_el = max(library_scores, key = lambda x:x[0])\n",
    "            library_scores.remove(max_el)\n",
    "            score, lib_id = max_el\n",
    "            remaining_libraries.remove(lib_id)\n",
    "            library = libraries[lib_id]\n",
    "            if day + library.signup_time>= self.D:\n",
    "                stop_calc_score = True\n",
    "                continue\n",
    "            day+=library.signup_time\n",
    "            books_to_take = (self.D - day)*library.books_per_day\n",
    "            sorted_books = sorted(library.book_ids, key=self.book_score, reverse=True)\n",
    "            for book_id in sorted_books[:books_to_take]:\n",
    "                for lib_id in self.book_libraries[book_id]:\n",
    "                    if lib_id != library.id:\n",
    "                        libraries[lib_id].remove_book(book_id)\n",
    "\n",
    "            for book_id in sorted_books[books_to_take:]:\n",
    "                self.book_libraries[book_id].remove(library.id)\n",
    "\n",
    "            library.book_ids = sorted_books[:books_to_take]\n",
    "            chosen_libraries.append(library)\n",
    "        return chosen_libraries\n",
    "    \n",
    "    def get_individual_from_solution(self,solution):\n",
    "        return tuple([lib.id for lib in solution])\n",
    "    \n",
    "    \n",
    "# sum_score = 0\n",
    "# for file_path in file_paths[1:]:\n",
    "#     print(file_path)\n",
    "#     (B,L,D),book_values,book_libraries, libraries = process_file(file_path)\n",
    "#     solver = GreedyIntervalSolver(B,L,D,book_values,book_libraries, libraries)\n",
    "#     %time solution = solver.get_solution()\n",
    "#     check_solution(D,solution)\n",
    "#     score = score_solution(solution, book_values)\n",
    "#     print(score)\n",
    "#     sum_score += score\n",
    "# print(sum_score)"
   ]
  },
  {
   "cell_type": "code",
   "execution_count": 13,
   "metadata": {},
   "outputs": [],
   "source": [
    "# for b in [100,50,30,10]:\n",
    "#     DIVIDOR =b\n",
    "#     sum_score = 0\n",
    "#     for file_path in file_paths[3:4]:\n",
    "#         print(file_path)\n",
    "#         (B,L,D),book_values,book_libraries, libraries = process_file(file_path)\n",
    "#         solver = GreedyIntervalSolver(B,L,D,book_values,book_libraries, libraries)\n",
    "#         %time solution = solver.get_solution()\n",
    "#         check_solution(D,solution)\n",
    "#         score = score_solution(solution, book_values)\n",
    "#         sum_score += score\n",
    "#     print(sum_score)"
   ]
  },
  {
   "cell_type": "code",
   "execution_count": 17,
   "metadata": {},
   "outputs": [
    {
     "name": "stdout",
     "output_type": "stream",
     "text": [
      "a_example.txt\n",
      "CPU times: user 421 µs, sys: 1 µs, total: 422 µs\n",
      "Wall time: 427 µs\n",
      "21\n",
      "b_read_on.txt\n",
      "CPU times: user 94.4 ms, sys: 0 ns, total: 94.4 ms\n",
      "Wall time: 94.2 ms\n",
      "5822900\n",
      "c_incunabula.txt\n",
      "CPU times: user 9.34 s, sys: 0 ns, total: 9.34 s\n",
      "Wall time: 9.34 s\n",
      "5689428\n",
      "d_tough_choices.txt\n",
      "CPU times: user 1min 41s, sys: 0 ns, total: 1min 41s\n",
      "Wall time: 1min 41s\n",
      "4974905\n",
      "e_so_many_books.txt\n",
      "CPU times: user 1.13 s, sys: 2 µs, total: 1.13 s\n",
      "Wall time: 1.13 s\n",
      "4956224\n",
      "f_libraries_of_the_world.txt\n",
      "CPU times: user 378 ms, sys: 0 ns, total: 378 ms\n",
      "Wall time: 378 ms\n",
      "5196760\n",
      "26640238\n"
     ]
    }
   ],
   "source": [
    "DIVIDOR =10\n",
    "sum_score = 0\n",
    "for file_path in file_paths:\n",
    "    print(file_path)\n",
    "    (B,L,D),book_values,book_libraries, libraries = process_file(file_path)\n",
    "    solver = GreedyIntervalSolver(B,L,D,book_values,book_libraries, libraries)\n",
    "    %time solution = solver.get_solution()\n",
    "    check_solution(D,solution)\n",
    "    score = score_solution(solution, book_values)\n",
    "    print(score)\n",
    "    sum_score += score\n",
    "print(sum_score)"
   ]
  },
  {
   "cell_type": "code",
   "execution_count": 8,
   "metadata": {},
   "outputs": [],
   "source": [
    "class SimpleGreedyIntervalSolver(GreedyIntervalSolver):\n",
    "    def library_score(self,lib_id):\n",
    "        lib = self.libraries[lib_id]\n",
    "        delta_time = self.D - lib.signup_time\n",
    "        return min(delta_time*lib.books_per_day,len(lib.book_ids))/lib.signup_time"
   ]
  },
  {
   "cell_type": "code",
   "execution_count": 18,
   "metadata": {},
   "outputs": [
    {
     "name": "stdout",
     "output_type": "stream",
     "text": [
      "a_example.txt\n",
      "CPU times: user 774 µs, sys: 2 µs, total: 776 µs\n",
      "Wall time: 783 µs\n",
      "21\n",
      "b_read_on.txt\n",
      "CPU times: user 29 ms, sys: 3 µs, total: 29.1 ms\n",
      "Wall time: 29.1 ms\n",
      "5822900\n",
      "c_incunabula.txt\n",
      "CPU times: user 7.4 s, sys: 0 ns, total: 7.4 s\n",
      "Wall time: 7.4 s\n",
      "5623848\n",
      "d_tough_choices.txt\n",
      "CPU times: user 1min 2s, sys: 0 ns, total: 1min 2s\n",
      "Wall time: 1min 2s\n",
      "4976335\n",
      "e_so_many_books.txt\n",
      "CPU times: user 133 ms, sys: 0 ns, total: 133 ms\n",
      "Wall time: 133 ms\n",
      "4938965\n",
      "f_libraries_of_the_world.txt\n",
      "CPU times: user 147 ms, sys: 0 ns, total: 147 ms\n",
      "Wall time: 147 ms\n",
      "5317660\n",
      "26679729\n"
     ]
    }
   ],
   "source": [
    "DIVIDOR =30\n",
    "sum_score = 0\n",
    "for file_path in file_paths:\n",
    "    print(file_path)\n",
    "    (B,L,D),book_values,book_libraries, libraries = process_file(file_path)\n",
    "    solver = SimpleGreedyIntervalSolver(B,L,D,book_values,book_libraries, libraries)\n",
    "    %time solution = solver.get_solution()\n",
    "    check_solution(D,solution)\n",
    "    score = score_solution(solution, book_values)\n",
    "    print(score)\n",
    "    sum_score += score\n",
    "print(sum_score)"
   ]
  },
  {
   "cell_type": "code",
   "execution_count": null,
   "metadata": {},
   "outputs": [],
   "source": []
  }
 ],
 "metadata": {
  "kernelspec": {
   "display_name": "Python 3",
   "language": "python",
   "name": "python3"
  },
  "language_info": {
   "codemirror_mode": {
    "name": "ipython",
    "version": 3
   },
   "file_extension": ".py",
   "mimetype": "text/x-python",
   "name": "python",
   "nbconvert_exporter": "python",
   "pygments_lexer": "ipython3",
   "version": "3.7.6"
  }
 },
 "nbformat": 4,
 "nbformat_minor": 4
}
